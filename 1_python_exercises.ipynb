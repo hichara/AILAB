{
 "cells": [
  {
   "cell_type": "markdown",
   "source": [
    "## Exercises\n",
    "\n",
    "1. Play around with the examples above by changing strings, index and slice numbers etc. Make yourself comfortable with the Python syntax (5 - 10 minutes)\n",
    "2. Copy a longer text from a website or write one yourself. (>= 100 words)\n",
    "    1. Go through the text and print all words beginning with a capital letter.\n",
    "    2. Do the same for all words in lowercase\n",
    "    3. Store the first two characters of each word in a new string. Remember to add spaces.\n",
    "    4. Do the same for the last three characters of each word.\n",
    "3. Use the text from the last exercise. Use regex to filter out all vowels.\n",
    "4. Invert exercise 3 (keep only vowels).\n",
    "\n",
    "If you are already knowledgeable in Python and bored by the tasks above, solve them using list comprehensions. \n",
    "Come up with more difficult exercises like:\n",
    "1. Use two longer Texts. Which words occur in both texts?\n",
    "2. Go from words to character-level. Find the longest character sub-sequence of two texts. This sub-sequence may spread over whitespace and several words.\n",
    "3. ...  "
   ],
   "metadata": {
    "collapsed": false
   },
   "id": "6395251bf95a128d"
  },
  {
   "cell_type": "code",
   "execution_count": 2,
   "id": "initial_id",
   "metadata": {
    "collapsed": true,
    "ExecuteTime": {
     "end_time": "2024-06-14T12:29:07.204308600Z",
     "start_time": "2024-06-14T12:29:07.170592600Z"
    }
   },
   "outputs": [],
   "source": [
    "text_1 = \"\"\"\n",
    "Das sind die Fragen, um die sich die 25 Geschichten in diesem Buch drehen. Sie\n",
    "lernen ein Start-up kennen, das auf der grünen Wiese eine professionelle IT aufbaut.\n",
    "Einen Versicherungskonzern, der mit dem hohen Tempo des Wandels Schritt hält.\n",
    "Oder einen mittelständischen Maschinenbauer, der Geräte und Services vernetzt.\n",
    "Jedes Projekt ist anders, jedes Unternehmen individuell. In der Summe zeigen die\n",
    "Geschichten, wie facettenreich die Zusammenarbeit mit unseren Kunden ist.\n",
    "Vordergründig spielen – wie sollte es bei einem IT-Partner anders sein? – Themen wie\n",
    "Prozesse oder Programmieren eine Rolle. Cloud-Konzepte oder KI-Anwendungen.\n",
    "SAP-Plattformen oder Microsoft-Lösungen. Aber im Kern geht es um etwas anderes.\n",
    "Denn hinter unseren Projekten stehen keine Technologien, sondern Menschen.\n",
    "Menschen, die etwas vorantreiben wollen, die gestalten wollen. Und die jemanden an\n",
    "ihrer Seite brauchen, dem sie vertrauen können. Hier kommen unsere Expertinnen und\n",
    "Experten ins Spiel. Sie bringen die nötige Branchenerfahrung und das Fachwissen mit,\n",
    "um die Aufgaben zu stemmen: von der strategischen Beratung über das Entwickeln\n",
    "von Lösungen bis hin zum Betrieb.\n",
    "Was sie noch mitbringen, ist schwerer zu fassen, aber mindestens genauso entscheidend für\n",
    "den gemeinsamen Erfolg. Bei adesso hat sich dafür das Mantra des „gesunden Menschenverstands“ durchgesetzt. Auch davon erzählen die folgenden Geschichten: vom Gespür für\n",
    "das Machbare, von der Reduktion auf das Notwendige, von der Lust am Umsetzen.\n",
    "Seit der Gründung von adesso haben wir unzählige Technologien kommen und gehen\n",
    "sehen. Niemand kann seriös vorhersagen, welchen Einfluss die Themen unserer Zeit,\n",
    "ob generative KI oder Quantencomputing, auf Wirtschaft und Projekte haben werden.\n",
    "Aber unabhängig von den Aufgaben, die vor uns liegen, bleiben Vertrauen und Verstand\n",
    "die Grundlagen erfolgreicher Zusammenarbeit. Und beides lässt sich nicht digitalisieren.\n",
    "Wir danken allen Mitarbeitenden, Partnern und Kunden, die uns in den vergangenen\n",
    "Jahrzehnten ihr Vertrauen geschenkt haben. Die Auswahl in diesem Buch zeigt Ihnen nur\n",
    "einen kleinen Ausschnitt.\n",
    "Ich hoffe, Sie haben beim Lesen genauso viel Freude wie wir beim Schreiben und Gestalten.\n",
    "Vielleicht inspiriert Sie ja das eine oder andere beschriebene Projekt, auch in Ihrer\n",
    "Digitalisierungsgeschichte neue Aspekte zu entdecken.\n",
    "\"\"\""
   ]
  },
  {
   "cell_type": "code",
   "execution_count": 4,
   "outputs": [
    {
     "name": "stdout",
     "output_type": "stream",
     "text": [
      "Das Fragen, Geschichten Buch Sie Wiese Einen Versicherungskonzern, Tempo Wandels Schritt Oder Maschinenbauer, Geräte Services Jedes Projekt Unternehmen In Summe Geschichten, Zusammenarbeit Kunden Vordergründig Themen Prozesse Programmieren Rolle. Cloud-Konzepte Microsoft-Lösungen. Aber Kern Denn Projekten Technologien, Menschen. Menschen, Und Seite Hier Expertinnen Experten Spiel. Sie Branchenerfahrung Fachwissen Aufgaben Beratung Entwickeln Lösungen Betrieb. Was Erfolg. Bei Mantra Menschenverstands“ Auch Geschichten: Gespür Machbare, Reduktion Notwendige, Lust Umsetzen. Seit Gründung Technologien Niemand Einfluss Themen Zeit, Quantencomputing, Wirtschaft Projekte Aber Aufgaben, Vertrauen Verstand Grundlagen Zusammenarbeit. Und Wir Mitarbeitenden, Partnern Kunden, Jahrzehnten Vertrauen Die Auswahl Buch Ihnen Ausschnitt. Ich Sie Lesen Freude Schreiben Gestalten. Vielleicht Sie Projekt, Ihrer Digitalisierungsgeschichte Aspekte \n"
     ]
    }
   ],
   "source": [
    "# 2.1\n",
    "\n",
    "# typical errors: using the string directly as list leads to single characters instead of words.\n",
    "\n",
    "for word in text_1.split():\n",
    "    if word.istitle():\n",
    "        print(word, end=\" \")\n",
    "\n",
    "print(\"\\n\")"
   ],
   "metadata": {
    "collapsed": false,
    "ExecuteTime": {
     "end_time": "2024-06-14T12:29:54.552023700Z",
     "start_time": "2024-06-14T12:29:54.513924600Z"
    }
   },
   "id": "fb4b98353639e602"
  },
  {
   "cell_type": "code",
   "execution_count": 5,
   "outputs": [
    {
     "name": "stdout",
     "output_type": "stream",
     "text": [
      "Das   Fragen,      Geschichten   Buch  Sie         Wiese     Einen Versicherungskonzern,     Tempo  Wandels Schritt  Oder   Maschinenbauer,  Geräte  Services  Jedes Projekt    Unternehmen  In  Summe   Geschichten,    Zusammenarbeit   Kunden  Vordergründig            Themen  Prozesse  Programmieren  Rolle. Cloud-Konzepte     Microsoft-Lösungen. Aber  Kern      Denn   Projekten   Technologien,  Menschen. Menschen,        Und     Seite      Hier   Expertinnen  Experten  Spiel. Sie    Branchenerfahrung   Fachwissen    Aufgaben      Beratung   Entwickeln  Lösungen    Betrieb. Was               Erfolg. Bei      Mantra   Menschenverstands“  Auch     Geschichten:  Gespür   Machbare,   Reduktion   Notwendige,   Lust  Umsetzen. Seit  Gründung      Technologien     Niemand     Einfluss  Themen  Zeit,     Quantencomputing,  Wirtschaft  Projekte   Aber    Aufgaben,      Vertrauen  Verstand  Grundlagen  Zusammenarbeit. Und      Wir   Mitarbeitenden, Partnern  Kunden,      Jahrzehnten  Vertrauen   Die Auswahl   Buch  Ihnen    Ausschnitt. Ich  Sie   Lesen   Freude    Schreiben  Gestalten. Vielleicht  Sie       Projekt,   Ihrer Digitalisierungsgeschichte  Aspekte   "
     ]
    }
   ],
   "source": [
    "\n",
    "# alternative (one of many)\n",
    "for word in text_1.split():\n",
    "    print(word if word.istitle() else \"\", end=\" \")\n",
    "    "
   ],
   "metadata": {
    "collapsed": false,
    "ExecuteTime": {
     "end_time": "2024-06-14T12:30:19.941076400Z",
     "start_time": "2024-06-14T12:30:19.914829500Z"
    }
   },
   "id": "b2e5fb26184021df"
  },
  {
   "cell_type": "code",
   "execution_count": 6,
   "outputs": [
    {
     "data": {
      "text/plain": "['Das',\n 'Fragen,',\n 'Geschichten',\n 'Buch',\n 'Sie',\n 'Wiese',\n 'Einen',\n 'Versicherungskonzern,',\n 'Tempo',\n 'Wandels',\n 'Schritt',\n 'Oder',\n 'Maschinenbauer,',\n 'Geräte',\n 'Services',\n 'Jedes',\n 'Projekt',\n 'Unternehmen',\n 'In',\n 'Summe',\n 'Geschichten,',\n 'Zusammenarbeit',\n 'Kunden',\n 'Vordergründig',\n 'Themen',\n 'Prozesse',\n 'Programmieren',\n 'Rolle.',\n 'Cloud-Konzepte',\n 'Microsoft-Lösungen.',\n 'Aber',\n 'Kern',\n 'Denn',\n 'Projekten',\n 'Technologien,',\n 'Menschen.',\n 'Menschen,',\n 'Und',\n 'Seite',\n 'Hier',\n 'Expertinnen',\n 'Experten',\n 'Spiel.',\n 'Sie',\n 'Branchenerfahrung',\n 'Fachwissen',\n 'Aufgaben',\n 'Beratung',\n 'Entwickeln',\n 'Lösungen',\n 'Betrieb.',\n 'Was',\n 'Erfolg.',\n 'Bei',\n 'Mantra',\n 'Menschenverstands“',\n 'Auch',\n 'Geschichten:',\n 'Gespür',\n 'Machbare,',\n 'Reduktion',\n 'Notwendige,',\n 'Lust',\n 'Umsetzen.',\n 'Seit',\n 'Gründung',\n 'Technologien',\n 'Niemand',\n 'Einfluss',\n 'Themen',\n 'Zeit,',\n 'Quantencomputing,',\n 'Wirtschaft',\n 'Projekte',\n 'Aber',\n 'Aufgaben,',\n 'Vertrauen',\n 'Verstand',\n 'Grundlagen',\n 'Zusammenarbeit.',\n 'Und',\n 'Wir',\n 'Mitarbeitenden,',\n 'Partnern',\n 'Kunden,',\n 'Jahrzehnten',\n 'Vertrauen',\n 'Die',\n 'Auswahl',\n 'Buch',\n 'Ihnen',\n 'Ausschnitt.',\n 'Ich',\n 'Sie',\n 'Lesen',\n 'Freude',\n 'Schreiben',\n 'Gestalten.',\n 'Vielleicht',\n 'Sie',\n 'Projekt,',\n 'Ihrer',\n 'Digitalisierungsgeschichte',\n 'Aspekte']"
     },
     "execution_count": 6,
     "metadata": {},
     "output_type": "execute_result"
    }
   ],
   "source": [
    "# using list comprehension\n",
    "[word for word in text_1.split() if word.istitle()]"
   ],
   "metadata": {
    "collapsed": false,
    "ExecuteTime": {
     "end_time": "2024-06-14T12:30:51.231253600Z",
     "start_time": "2024-06-14T12:30:51.199980400Z"
    }
   },
   "id": "2672cf933644c5cc"
  },
  {
   "cell_type": "code",
   "execution_count": 3,
   "outputs": [
    {
     "name": "stdout",
     "output_type": "stream",
     "text": [
      "sind die um die sich die in diesem drehen. lernen ein kennen, das auf der grünen eine professionelle aufbaut. der mit dem hohen des hält. einen mittelständischen der und vernetzt. ist anders, jedes individuell. der zeigen die wie facettenreich die mit unseren ist. spielen wie sollte es bei einem anders sein? wie oder eine oder oder im geht es um etwas anderes. hinter unseren stehen keine sondern die etwas vorantreiben wollen, die gestalten wollen. die jemanden an ihrer brauchen, dem sie vertrauen können. kommen unsere und ins bringen die nötige und das mit, um die zu stemmen: von der strategischen über das von bis hin zum sie noch mitbringen, ist schwerer zu fassen, aber mindestens genauso entscheidend für den gemeinsamen adesso hat sich dafür das des „gesunden durchgesetzt. davon erzählen die folgenden vom für das von der auf das von der am der von adesso haben wir unzählige kommen und gehen sehen. kann seriös vorhersagen, welchen die unserer ob generative oder auf und haben werden. unabhängig von den die vor uns liegen, bleiben und die erfolgreicher beides lässt sich nicht digitalisieren. danken allen und die uns in den vergangenen ihr geschenkt haben. in diesem zeigt nur einen kleinen hoffe, haben beim genauso viel wie wir beim und inspiriert ja das eine oder andere beschriebene auch in neue zu entdecken. \n",
      "\n",
      " sind die  um die sich die   in diesem  drehen.  lernen ein  kennen, das auf der grünen  eine professionelle  aufbaut.   der mit dem hohen  des   hält.  einen mittelständischen  der  und  vernetzt.   ist anders, jedes  individuell.  der  zeigen die  wie facettenreich die  mit unseren  ist.  spielen  wie sollte es bei einem  anders sein?   wie  oder  eine   oder   oder   im  geht es um etwas anderes.  hinter unseren  stehen keine  sondern   die etwas vorantreiben wollen, die gestalten wollen.  die jemanden an ihrer  brauchen, dem sie vertrauen können.  kommen unsere  und  ins   bringen die nötige  und das  mit, um die  zu stemmen: von der strategischen  über das  von  bis hin zum   sie noch mitbringen, ist schwerer zu fassen, aber mindestens genauso entscheidend für den gemeinsamen   adesso hat sich dafür das  des „gesunden  durchgesetzt.  davon erzählen die folgenden  vom  für das  von der  auf das  von der  am   der  von adesso haben wir unzählige  kommen und gehen sehen.  kann seriös vorhersagen, welchen  die  unserer  ob generative  oder  auf  und  haben werden.  unabhängig von den  die vor uns liegen, bleiben  und  die  erfolgreicher   beides lässt sich nicht digitalisieren.  danken allen   und  die uns in den vergangenen  ihr  geschenkt haben.   in diesem  zeigt  nur einen kleinen   hoffe,  haben beim  genauso viel  wie wir beim  und   inspiriert  ja das eine oder andere beschriebene  auch in   neue  zu entdecken. "
     ]
    },
    {
     "data": {
      "text/plain": "['sind',\n 'die',\n 'um',\n 'die',\n 'sich',\n 'die',\n 'in',\n 'diesem',\n 'drehen.',\n 'lernen',\n 'ein',\n 'kennen,',\n 'das',\n 'auf',\n 'der',\n 'grünen',\n 'eine',\n 'professionelle',\n 'aufbaut.',\n 'der',\n 'mit',\n 'dem',\n 'hohen',\n 'des',\n 'hält.',\n 'einen',\n 'mittelständischen',\n 'der',\n 'und',\n 'vernetzt.',\n 'ist',\n 'anders,',\n 'jedes',\n 'individuell.',\n 'der',\n 'zeigen',\n 'die',\n 'wie',\n 'facettenreich',\n 'die',\n 'mit',\n 'unseren',\n 'ist.',\n 'spielen',\n 'wie',\n 'sollte',\n 'es',\n 'bei',\n 'einem',\n 'anders',\n 'sein?',\n 'wie',\n 'oder',\n 'eine',\n 'oder',\n 'oder',\n 'im',\n 'geht',\n 'es',\n 'um',\n 'etwas',\n 'anderes.',\n 'hinter',\n 'unseren',\n 'stehen',\n 'keine',\n 'sondern',\n 'die',\n 'etwas',\n 'vorantreiben',\n 'wollen,',\n 'die',\n 'gestalten',\n 'wollen.',\n 'die',\n 'jemanden',\n 'an',\n 'ihrer',\n 'brauchen,',\n 'dem',\n 'sie',\n 'vertrauen',\n 'können.',\n 'kommen',\n 'unsere',\n 'und',\n 'ins',\n 'bringen',\n 'die',\n 'nötige',\n 'und',\n 'das',\n 'mit,',\n 'um',\n 'die',\n 'zu',\n 'stemmen:',\n 'von',\n 'der',\n 'strategischen',\n 'über',\n 'das',\n 'von',\n 'bis',\n 'hin',\n 'zum',\n 'sie',\n 'noch',\n 'mitbringen,',\n 'ist',\n 'schwerer',\n 'zu',\n 'fassen,',\n 'aber',\n 'mindestens',\n 'genauso',\n 'entscheidend',\n 'für',\n 'den',\n 'gemeinsamen',\n 'adesso',\n 'hat',\n 'sich',\n 'dafür',\n 'das',\n 'des',\n '„gesunden',\n 'durchgesetzt.',\n 'davon',\n 'erzählen',\n 'die',\n 'folgenden',\n 'vom',\n 'für',\n 'das',\n 'von',\n 'der',\n 'auf',\n 'das',\n 'von',\n 'der',\n 'am',\n 'der',\n 'von',\n 'adesso',\n 'haben',\n 'wir',\n 'unzählige',\n 'kommen',\n 'und',\n 'gehen',\n 'sehen.',\n 'kann',\n 'seriös',\n 'vorhersagen,',\n 'welchen',\n 'die',\n 'unserer',\n 'ob',\n 'generative',\n 'oder',\n 'auf',\n 'und',\n 'haben',\n 'werden.',\n 'unabhängig',\n 'von',\n 'den',\n 'die',\n 'vor',\n 'uns',\n 'liegen,',\n 'bleiben',\n 'und',\n 'die',\n 'erfolgreicher',\n 'beides',\n 'lässt',\n 'sich',\n 'nicht',\n 'digitalisieren.',\n 'danken',\n 'allen',\n 'und',\n 'die',\n 'uns',\n 'in',\n 'den',\n 'vergangenen',\n 'ihr',\n 'geschenkt',\n 'haben.',\n 'in',\n 'diesem',\n 'zeigt',\n 'nur',\n 'einen',\n 'kleinen',\n 'hoffe,',\n 'haben',\n 'beim',\n 'genauso',\n 'viel',\n 'wie',\n 'wir',\n 'beim',\n 'und',\n 'inspiriert',\n 'ja',\n 'das',\n 'eine',\n 'oder',\n 'andere',\n 'beschriebene',\n 'auch',\n 'in',\n 'neue',\n 'zu',\n 'entdecken.']"
     },
     "execution_count": 3,
     "metadata": {},
     "output_type": "execute_result"
    }
   ],
   "source": [
    "# 2.2\n",
    "\n",
    "for word in text_1.split():\n",
    "    if word.islower():\n",
    "        print(word, end=\" \")\n",
    "\n",
    "print(\"\\n\")\n",
    "\n",
    "# alternative (one of many)\n",
    "for word in text_1.split():\n",
    "    print(word if word.islower() else \"\", end=\" \")\n",
    "    \n",
    "# using list comprehension\n",
    "[word for word in text_1.split() if word.islower()]"
   ],
   "metadata": {
    "collapsed": false,
    "ExecuteTime": {
     "end_time": "2024-06-13T07:48:14.641086400Z",
     "start_time": "2024-06-13T07:48:14.587788800Z"
    }
   },
   "id": "ab9cf181c77b3171"
  },
  {
   "cell_type": "code",
   "execution_count": 4,
   "outputs": [
    {
     "name": "stdout",
     "output_type": "stream",
     "text": [
      "Da si di Fr um di si di 25 Ge in di Bu dr Si le ei St ke da au de gr Wi ei pr IT au Ei Ve de mi de ho Te de Wa Sc hä Od ei mi Ma de Ge un Se ve Je Pr is an je Un in In de Su ze di Ge wi fa di Zu mi un Ku is Vo sp – wi so es be ei IT an se – Th wi Pr od Pr ei Ro Cl od KI SA od Mi Ab im Ke ge es um et an De hi un Pr st ke Te so Me Me di et vo wo di ge wo Un di je an ih Se br de si ve kö Hi ko un Ex un Ex in Sp Si br di nö Br un da Fa mi um di Au zu st vo de st Be üb da En vo Lö bi hi zu Be Wa si no mi is sc zu fa ab mi ge en fü de ge Er Be ad ha si da da Ma de „g Me du Au da er di fo Ge vo Ge fü da Ma vo de Re au da No vo de Lu am Um Se de Gr vo ad ha wi un Te ko un ge se Ni ka se vo we Ei di Th un Ze ob ge KI od Qu au Wi un Pr ha we Ab un vo de Au di vo un li bl Ve un Ve di Gr er Zu Un be lä si ni di Wi da al Mi Pa un Ku di un in de ve Ja ih Ve ge ha Di Au in di Bu ze Ih nu ei kl Au Ic ho Si ha be Le ge vi Fr wi wi be Sc un Ge Vi in Si ja da ei od an be Pr au in Ih Di ne As zu en \n"
     ]
    },
    {
     "data": {
      "text/plain": "'Da si di Fr um di si di 25 Ge in di Bu dr Si le ei St ke da au de gr Wi ei pr IT au Ei Ve de mi de ho Te de Wa Sc hä Od ei mi Ma de Ge un Se ve Je Pr is an je Un in In de Su ze di Ge wi fa di Zu mi un Ku is Vo sp – wi so es be ei IT an se – Th wi Pr od Pr ei Ro Cl od KI SA od Mi Ab im Ke ge es um et an De hi un Pr st ke Te so Me Me di et vo wo di ge wo Un di je an ih Se br de si ve kö Hi ko un Ex un Ex in Sp Si br di nö Br un da Fa mi um di Au zu st vo de st Be üb da En vo Lö bi hi zu Be Wa si no mi is sc zu fa ab mi ge en fü de ge Er Be ad ha si da da Ma de „g Me du Au da er di fo Ge vo Ge fü da Ma vo de Re au da No vo de Lu am Um Se de Gr vo ad ha wi un Te ko un ge se Ni ka se vo we Ei di Th un Ze ob ge KI od Qu au Wi un Pr ha we Ab un vo de Au di vo un li bl Ve un Ve di Gr er Zu Un be lä si ni di Wi da al Mi Pa un Ku di un in de ve Ja ih Ve ge ha Di Au in di Bu ze Ih nu ei kl Au Ic ho Si ha be Le ge vi Fr wi wi be Sc un Ge Vi in Si ja da ei od an be Pr au in Ih Di ne As zu en '"
     },
     "execution_count": 4,
     "metadata": {},
     "output_type": "execute_result"
    }
   ],
   "source": [
    "# 2.3\n",
    "\n",
    "new_str = \"\"\n",
    "for word in text_1.split():\n",
    "    new_str += word[:2] + \" \"\n",
    "\n",
    "print(new_str)\n",
    "\n",
    "# using list comprehension\n",
    "\"\".join([word[:2]+\" \" for word in text_1.split()])"
   ],
   "metadata": {
    "collapsed": false,
    "ExecuteTime": {
     "end_time": "2024-06-13T07:48:16.144447200Z",
     "start_time": "2024-06-13T07:48:16.102931800Z"
    }
   },
   "id": "9e3b7a7d1ce6823f"
  },
  {
   "cell_type": "code",
   "execution_count": 5,
   "outputs": [
    {
     "name": "stdout",
     "output_type": "stream",
     "text": [
      "Das ind die en, um die ich die 25 ten in sem uch en. Sie nen ein -up en, das auf der nen ese ine lle IT ut. nen rn, der mit dem hen mpo des els itt lt. der nen hen er, der äte und ces zt. des ekt ist rs, des men ll. In der mme gen die en, wie ich die eit mit ren den st. dig len – wie lte es bei nem ner ers in? – men wie sse der ren ine le. pte der en. men der en. ber im ern eht es um was es. enn ter ren ten hen ine en, ern en. en, die was ben en, die ten en. Und die den an rer ite en, dem sie uen en. ier men ere nen und ten ins el. Sie gen die ige ung und das sen it, um die ben zu en: von der hen ung ber das eln von gen bis hin zum eb. Was sie och en, ist rer zu en, ber ens uso end für den men lg. Bei sso hat ich für das tra des den ds“ zt. uch von len die den en: vom pür für das re, von der ion auf das ge, von der ust am en. eit der ung von sso ben wir ige ien men und hen en. and ann iös en, hen uss die men rer it, ob ive KI der ng, auf aft und kte ben en. ber gig von den en, die vor uns en, ben uen und and die gen her it. Und des sst ich cht en. Wir ken len en, ern und en, die uns in den nen ten ihr uen nkt en. Die ahl in sem uch igt nen nur nen nen tt. Ich fe, Sie ben eim sen uso iel ude wie wir eim ben und en. cht ert Sie ja das ine der ere ene kt, uch in rer hte eue kte zu en. \n"
     ]
    },
    {
     "data": {
      "text/plain": "'Das ind die en, um die ich die 25 ten in sem uch en. Sie nen ein -up en, das auf der nen ese ine lle IT ut. nen rn, der mit dem hen mpo des els itt lt. der nen hen er, der äte und ces zt. des ekt ist rs, des men ll. In der mme gen die en, wie ich die eit mit ren den st. dig len – wie lte es bei nem ner ers in? – men wie sse der ren ine le. pte der en. men der en. ber im ern eht es um was es. enn ter ren ten hen ine en, ern en. en, die was ben en, die ten en. Und die den an rer ite en, dem sie uen en. ier men ere nen und ten ins el. Sie gen die ige ung und das sen it, um die ben zu en: von der hen ung ber das eln von gen bis hin zum eb. Was sie och en, ist rer zu en, ber ens uso end für den men lg. Bei sso hat ich für das tra des den ds“ zt. uch von len die den en: vom pür für das re, von der ion auf das ge, von der ust am en. eit der ung von sso ben wir ige ien men und hen en. and ann iös en, hen uss die men rer it, ob ive KI der ng, auf aft und kte ben en. ber gig von den en, die vor uns en, ben uen und and die gen her it. Und des sst ich cht en. Wir ken len en, ern und en, die uns in den nen ten ihr uen nkt en. Die ahl in sem uch igt nen nur nen nen tt. Ich fe, Sie ben eim sen uso iel ude wie wir eim ben und en. cht ert Sie ja das ine der ere ene kt, uch in rer hte eue kte zu en. '"
     },
     "execution_count": 5,
     "metadata": {},
     "output_type": "execute_result"
    }
   ],
   "source": [
    "# 2.4\n",
    "\n",
    "# zu beachten: keine Fehlermeldung, falls Wort zu wenige Buchstaben - nur bei Slicing!\n",
    "\n",
    "new_str = \"\"\n",
    "for word in text_1.split():\n",
    "    new_str += word[-3:] + \" \"\n",
    "\n",
    "print(new_str)\n",
    "\n",
    "# using list comprehension\n",
    "\"\".join([word[-3:]+\" \" for word in text_1.split()])"
   ],
   "metadata": {
    "collapsed": false,
    "ExecuteTime": {
     "end_time": "2024-06-13T07:48:17.958364700Z",
     "start_time": "2024-06-13T07:48:17.789123500Z"
    }
   },
   "id": "122028f4f25fd137"
  },
  {
   "cell_type": "code",
   "execution_count": 6,
   "outputs": [
    {
     "data": {
      "text/plain": "'\\nDs snd d Frgn, m d sch d 25 Gschchtn n dsm Bch drhn. S\\nlrnn n Strt-p knnn, ds f dr grünn Ws n prfssnll T fbt.\\nnn Vrschrngsknzrn, dr mt dm hhn Tmp ds Wndls Schrtt hält.\\ndr nn mttlständschn Mschnnbr, dr Grät nd Srvcs vrntzt.\\nJds Prjkt st ndrs, jds ntrnhmn ndvdll. n dr Smm zgn d\\nGschchtn, w fcttnrch d Zsmmnrbt mt nsrn Kndn st.\\nVrdrgründg spln – w sllt s b nm T-Prtnr ndrs sn? – Thmn w\\nPrzss dr Prgrmmrn n Rll. Cld-Knzpt dr K-nwndngn.\\nSP-Plttfrmn dr Mcrsft-Lösngn. br m Krn ght s m tws ndrs.\\nDnn hntr nsrn Prjktn sthn kn Tchnlgn, sndrn Mnschn.\\nMnschn, d tws vrntrbn wlln, d gstltn wlln. nd d jmndn n\\nhrr St brchn, dm s vrtrn könnn. Hr kmmn nsr xprtnnn nd\\nxprtn ns Spl. S brngn d nötg Brnchnrfhrng nd ds Fchwssn mt,\\nm d fgbn z stmmn: vn dr strtgschn Brtng übr ds ntwckln\\nvn Lösngn bs hn zm Btrb.\\nWs s nch mtbrngn, st schwrr z fssn, br mndstns gns ntschdnd für\\ndn gmnsmn rflg. B dss ht sch dfür ds Mntr ds „gsndn Mnschnvrstnds“ drchgstzt. ch dvn rzähln d flgndn Gschchtn: vm Gspür für\\nds Mchbr, vn dr Rdktn f ds Ntwndg, vn dr Lst m mstzn.\\nSt dr Gründng vn dss hbn wr nzählg Tchnlgn kmmn nd ghn\\nshn. Nmnd knn srös vrhrsgn, wlchn nflss d Thmn nsrr Zt,\\nb gnrtv K dr Qntncmptng, f Wrtschft nd Prjkt hbn wrdn.\\nbr nbhängg vn dn fgbn, d vr ns lgn, blbn Vrtrn nd Vrstnd\\nd Grndlgn rflgrchr Zsmmnrbt. nd bds lässt sch ncht dgtlsrn.\\nWr dnkn lln Mtrbtndn, Prtnrn nd Kndn, d ns n dn vrgngnn\\nJhrzhntn hr Vrtrn gschnkt hbn. D swhl n dsm Bch zgt hnn nr\\nnn klnn sschntt.\\nch hff, S hbn bm Lsn gns vl Frd w wr bm Schrbn nd Gstltn.\\nVllcht nsprrt S j ds n dr ndr bschrbn Prjkt, ch n hrr\\nDgtlsrngsgschcht n spkt z ntdckn.\\n'"
     },
     "execution_count": 6,
     "metadata": {},
     "output_type": "execute_result"
    }
   ],
   "source": [
    "# 3\n",
    "import re\n",
    "\n",
    "pattern = \"[aeiou]\"\n",
    "\n",
    "re.sub(pattern, \"\", text_1, flags=re.IGNORECASE)"
   ],
   "metadata": {
    "collapsed": false,
    "ExecuteTime": {
     "end_time": "2024-06-13T07:48:21.222909300Z",
     "start_time": "2024-06-13T07:48:21.174737600Z"
    }
   },
   "id": "cb5af955488f641a"
  },
  {
   "cell_type": "code",
   "execution_count": 7,
   "outputs": [
    {
     "data": {
      "text/plain": "'aiieaeuieiieeieiieeueeieeeeiaueeaaueeieeeieoeioeeIauauEieeieuoeeieoeeoeaeiOeeieieieaieaueeeeueieeeeeoeiaeeeUeeeiiiueIeueeieieeieieaeeeiieuaeaeiiueeueioeiieeieoeeeieieIaeaeeieeieoeeoeoaieeeieoeouoeeoeIAeueAaoeoeiooueAeieeeueaaeeeieueeoeeeeeieeooieoeeeeeieeaoaeieoeieeaeoeUieeaeaieeieaueeieeaueeieoeueeEeieuEeeiieieieieieaeeauuaaieiuieAuaeueeoeaeieeaueaEieoueiiueieaieoiieieeuaeaeieeeauoeeieeeeiaeEoeiaeoaiaaaaeeueeeeaueeAuaoeeieoeeeieoeaaaeoeeuioauaoeieoeuaUeeeieuoaeoaeiuieeooieoeueeeeieaaeioeaeeeEiuieeeueeeioeeaieIoeuaeouiauiauoeeaeeeAeuaioeAuaeieouieeeieeaueueaieuaeeoeieuaeaeiUeieiiiiaiieeiaeaeiaeieeaeuueieuieeaeeaeeieaueeeaeieAuaiieeueiIeueieeieAuiIoeieaeeieeeauoieeueieieieieueaeieeiiiieieaaeieoeaeeeieeeoeauiIeiiaiieueieeueAeeueee'"
     },
     "execution_count": 7,
     "metadata": {},
     "output_type": "execute_result"
    }
   ],
   "source": [
    "# 4\n",
    "\n",
    "\"\".join((re.findall(pattern, text_1, re.IGNORECASE)))"
   ],
   "metadata": {
    "collapsed": false,
    "ExecuteTime": {
     "end_time": "2024-06-13T07:48:26.565815Z",
     "start_time": "2024-06-13T07:48:26.524751500Z"
    }
   },
   "id": "56e183098531cfda"
  },
  {
   "cell_type": "code",
   "execution_count": 8,
   "outputs": [
    {
     "name": "stdout",
     "output_type": "stream",
     "text": [
      "die die sich die Geschichten in diesem Buch Sie ein das auf der eine der mit des einen der und Projekt ist der die wie die Zusammenarbeit mit Kunden wie es bei Themen wie oder eine oder oder Aber im es die die Und die an sie kommen unsere und ins Sie bringen die und das die Aufgaben zu von der das von sie no "
     ]
    }
   ],
   "source": [
    "# extra 1\n",
    "\n",
    "text_2 = text_1[:len(text_1)//2]\n",
    "text_3 = text_1[len(text_1)//2:]\n",
    "\n",
    "for word in text_2.split():\n",
    "    if word in text_3:\n",
    "        print(word, end=\" \")"
   ],
   "metadata": {
    "collapsed": false,
    "ExecuteTime": {
     "end_time": "2024-06-13T07:48:28.222295900Z",
     "start_time": "2024-06-13T07:48:27.977441500Z"
    }
   },
   "id": "e4172c714dfe913e"
  },
  {
   "cell_type": "code",
   "execution_count": 9,
   "outputs": [
    {
     "name": "stdout",
     "output_type": "stream",
     "text": [
      "Match(a=621, b=502, size=3)\n",
      " KI\n",
      " KI\n"
     ]
    }
   ],
   "source": [
    "# extra 2\n",
    "\n",
    "# cheating, for comparison\n",
    "\n",
    "from difflib import SequenceMatcher\n",
    "\n",
    "match = SequenceMatcher(None, text_2, text_3).find_longest_match()\n",
    "\n",
    "print(match)  #\n",
    "# what is it?\n",
    "print(text_2[match.a:match.a + match.size])\n",
    "print(text_3[match.b:match.b + match.size])"
   ],
   "metadata": {
    "collapsed": false,
    "ExecuteTime": {
     "end_time": "2024-06-13T07:48:34.348436900Z",
     "start_time": "2024-06-13T07:48:34.283394900Z"
    }
   },
   "id": "f9ae12240b63f33d"
  },
  {
   "cell_type": "markdown",
   "source": [
    "Obviously, this library is buggy. Or at least does not work as expected..."
   ],
   "metadata": {
    "collapsed": false
   },
   "id": "872703a4084c7e9d"
  },
  {
   "cell_type": "code",
   "execution_count": 11,
   "outputs": [
    {
     "name": "stdout",
     "output_type": "stream",
     "text": [
      "le\n",
      "acdaf\n"
     ]
    }
   ],
   "source": [
    "# extra 2\n",
    "\n",
    "# manual solution, needs performance improvements...\n",
    "def matchingString(s1,s2):\n",
    "    match=''\n",
    "    for i in range(0,len(s1)):\n",
    "        for j in range(0,len(s2)):\n",
    "            k=1\n",
    "            # now applying while condition until we find a substring match and length of substring is less than length of s1 and s2\n",
    "            while (i+k <= len(s1) and j+k <= len(s2) and s1[i:i+k]==s2[j:j+k]):\n",
    "                if len(match) <= len(s1[i:i+k]):\n",
    "                   match = s1[i:i+k]\n",
    "                k=k+1\n",
    "    return match  \n",
    "\n",
    "print(matchingString('apple','ale')) #le\n",
    "print(matchingString(\"acdaf\", \"acdacdaf\"))"
   ],
   "metadata": {
    "collapsed": false,
    "ExecuteTime": {
     "end_time": "2024-06-13T07:49:11.787992100Z",
     "start_time": "2024-06-13T07:49:11.725181900Z"
    }
   },
   "id": "7f8582fc5fce9869"
  },
  {
   "cell_type": "code",
   "execution_count": 12,
   "outputs": [
    {
     "name": "stdout",
     "output_type": "stream",
     "text": [
      " in diesem Buch \n"
     ]
    }
   ],
   "source": [
    "print(matchingString(text_2, text_3))"
   ],
   "metadata": {
    "collapsed": false,
    "ExecuteTime": {
     "end_time": "2024-06-13T07:49:17.850675300Z",
     "start_time": "2024-06-13T07:49:16.341059800Z"
    }
   },
   "id": "34cdbcafedf9304b"
  },
  {
   "cell_type": "code",
   "execution_count": null,
   "outputs": [],
   "source": [
    "# extra 3 character level\n",
    "\n",
    "# ideas welcome..."
   ],
   "metadata": {
    "collapsed": false
   },
   "id": "cc4c5e77e64fd916"
  },
  {
   "cell_type": "markdown",
   "source": [
    "# Exercises on NumPy\n",
    "\n",
    "NumPy\n",
    "1. Create a 4x2 2-D array that contains the numbers from 1-8\n",
    "2. Filter out all even numbers from the array above\n",
    "3. Create a new array from the first one above by reshaping it to 2x2x2. Make sure the original array is still available.\n",
    "4. Create a new array from the first one by swapping the columns.\n",
    "5. Do the same by swapping the middle rows."
   ],
   "metadata": {
    "collapsed": false
   },
   "id": "b0b14968ce71de90"
  },
  {
   "cell_type": "code",
   "execution_count": 23,
   "outputs": [
    {
     "data": {
      "text/plain": "array([[1, 2],\n       [3, 4],\n       [5, 6],\n       [7, 8]])"
     },
     "execution_count": 23,
     "metadata": {},
     "output_type": "execute_result"
    }
   ],
   "source": [
    "import numpy as np\n",
    "# 1\n",
    "a1 = np.arange(1,9).reshape((4,2))\n",
    "a1"
   ],
   "metadata": {
    "collapsed": false,
    "ExecuteTime": {
     "end_time": "2024-06-10T13:31:45.024320800Z",
     "start_time": "2024-06-10T13:31:44.962350600Z"
    }
   },
   "id": "c697ee19d65a0a20"
  },
  {
   "cell_type": "code",
   "execution_count": 24,
   "outputs": [
    {
     "data": {
      "text/plain": "array([2, 4, 6, 8])"
     },
     "execution_count": 24,
     "metadata": {},
     "output_type": "execute_result"
    }
   ],
   "source": [
    "a1[a1%2==0]"
   ],
   "metadata": {
    "collapsed": false,
    "ExecuteTime": {
     "end_time": "2024-06-10T13:32:09.644603200Z",
     "start_time": "2024-06-10T13:32:09.578887Z"
    }
   },
   "id": "b7afdba6c1594e2d"
  },
  {
   "cell_type": "code",
   "execution_count": 25,
   "outputs": [
    {
     "data": {
      "text/plain": "array([[[1, 2],\n        [3, 4]],\n\n       [[5, 6],\n        [7, 8]]])"
     },
     "execution_count": 25,
     "metadata": {},
     "output_type": "execute_result"
    }
   ],
   "source": [
    "a2 = a1.reshape((2,2,2))\n",
    "a2"
   ],
   "metadata": {
    "collapsed": false,
    "ExecuteTime": {
     "end_time": "2024-06-10T13:32:37.720046100Z",
     "start_time": "2024-06-10T13:32:37.630565Z"
    }
   },
   "id": "26c9b0109c61fd8f"
  },
  {
   "cell_type": "code",
   "execution_count": 26,
   "outputs": [
    {
     "data": {
      "text/plain": "array([[1, 2],\n       [3, 4],\n       [5, 6],\n       [7, 8]])"
     },
     "execution_count": 26,
     "metadata": {},
     "output_type": "execute_result"
    }
   ],
   "source": [
    "a1"
   ],
   "metadata": {
    "collapsed": false,
    "ExecuteTime": {
     "end_time": "2024-06-10T13:32:52.391947300Z",
     "start_time": "2024-06-10T13:32:52.332952200Z"
    }
   },
   "id": "481682ecb4d3164d"
  },
  {
   "cell_type": "code",
   "execution_count": 29,
   "outputs": [
    {
     "data": {
      "text/plain": "array([[2, 1],\n       [4, 3],\n       [6, 5],\n       [8, 7]])"
     },
     "execution_count": 29,
     "metadata": {},
     "output_type": "execute_result"
    }
   ],
   "source": [
    "a3 = a1[:,[1,0]]\n",
    "a3"
   ],
   "metadata": {
    "collapsed": false,
    "ExecuteTime": {
     "end_time": "2024-06-10T13:34:08.366732100Z",
     "start_time": "2024-06-10T13:34:08.321753200Z"
    }
   },
   "id": "d9e411c2e5cc604"
  },
  {
   "cell_type": "code",
   "execution_count": 32,
   "outputs": [
    {
     "data": {
      "text/plain": "array([[1, 2],\n       [5, 6],\n       [3, 4],\n       [7, 8]])"
     },
     "execution_count": 32,
     "metadata": {},
     "output_type": "execute_result"
    }
   ],
   "source": [
    "a4 = a1[[0,2,1,3],:]\n",
    "a4"
   ],
   "metadata": {
    "collapsed": false,
    "ExecuteTime": {
     "end_time": "2024-06-10T13:34:55.947298400Z",
     "start_time": "2024-06-10T13:34:55.801799200Z"
    }
   },
   "id": "1342c49ec5c77eaa"
  },
  {
   "cell_type": "markdown",
   "source": [
    "# Exercises on pandas\n",
    "\n",
    "Use pandas to analyse the famous Iris dataset.\n",
    "* Load the dataset to pandas. Make sure all is fine and consider data cleaning otherwise.\n",
    "* Have a look at the dataset. What would be a feasible analysis goal? Act accordingly in the following exercises.\n",
    "* Calculate statistical measures like mean, standard deviation etc.\n",
    "* Use \"visual analytics\" to come up with hypotheses about the analysis.\n",
    "* discuss with teacher and other students"
   ],
   "metadata": {
    "collapsed": false
   },
   "id": "ff0acd0f2737ac3c"
  },
  {
   "cell_type": "code",
   "execution_count": 8,
   "outputs": [
    {
     "data": {
      "text/plain": "    sepal length sepal width petal length petal width            iris\n0              c           c            c           c               d\n1            NaN         NaN          NaN         NaN           class\n2            5.1         3.5          1.4         0.2     Iris-setosa\n3            4.9         3.0          1.4         0.2     Iris-setosa\n4            4.7         3.2          1.3         0.2     Iris-setosa\n..           ...         ...          ...         ...             ...\n147          6.7         3.0          5.2         2.3  Iris-virginica\n148          6.3         2.5          5.0         1.9  Iris-virginica\n149          6.5         3.0          5.2         2.0  Iris-virginica\n150          6.2         3.4          5.4         2.3  Iris-virginica\n151          5.9         3.0          5.1         1.8  Iris-virginica\n\n[152 rows x 5 columns]",
      "text/html": "<div>\n<style scoped>\n    .dataframe tbody tr th:only-of-type {\n        vertical-align: middle;\n    }\n\n    .dataframe tbody tr th {\n        vertical-align: top;\n    }\n\n    .dataframe thead th {\n        text-align: right;\n    }\n</style>\n<table border=\"1\" class=\"dataframe\">\n  <thead>\n    <tr style=\"text-align: right;\">\n      <th></th>\n      <th>sepal length</th>\n      <th>sepal width</th>\n      <th>petal length</th>\n      <th>petal width</th>\n      <th>iris</th>\n    </tr>\n  </thead>\n  <tbody>\n    <tr>\n      <th>0</th>\n      <td>c</td>\n      <td>c</td>\n      <td>c</td>\n      <td>c</td>\n      <td>d</td>\n    </tr>\n    <tr>\n      <th>1</th>\n      <td>NaN</td>\n      <td>NaN</td>\n      <td>NaN</td>\n      <td>NaN</td>\n      <td>class</td>\n    </tr>\n    <tr>\n      <th>2</th>\n      <td>5.1</td>\n      <td>3.5</td>\n      <td>1.4</td>\n      <td>0.2</td>\n      <td>Iris-setosa</td>\n    </tr>\n    <tr>\n      <th>3</th>\n      <td>4.9</td>\n      <td>3.0</td>\n      <td>1.4</td>\n      <td>0.2</td>\n      <td>Iris-setosa</td>\n    </tr>\n    <tr>\n      <th>4</th>\n      <td>4.7</td>\n      <td>3.2</td>\n      <td>1.3</td>\n      <td>0.2</td>\n      <td>Iris-setosa</td>\n    </tr>\n    <tr>\n      <th>...</th>\n      <td>...</td>\n      <td>...</td>\n      <td>...</td>\n      <td>...</td>\n      <td>...</td>\n    </tr>\n    <tr>\n      <th>147</th>\n      <td>6.7</td>\n      <td>3.0</td>\n      <td>5.2</td>\n      <td>2.3</td>\n      <td>Iris-virginica</td>\n    </tr>\n    <tr>\n      <th>148</th>\n      <td>6.3</td>\n      <td>2.5</td>\n      <td>5.0</td>\n      <td>1.9</td>\n      <td>Iris-virginica</td>\n    </tr>\n    <tr>\n      <th>149</th>\n      <td>6.5</td>\n      <td>3.0</td>\n      <td>5.2</td>\n      <td>2.0</td>\n      <td>Iris-virginica</td>\n    </tr>\n    <tr>\n      <th>150</th>\n      <td>6.2</td>\n      <td>3.4</td>\n      <td>5.4</td>\n      <td>2.3</td>\n      <td>Iris-virginica</td>\n    </tr>\n    <tr>\n      <th>151</th>\n      <td>5.9</td>\n      <td>3.0</td>\n      <td>5.1</td>\n      <td>1.8</td>\n      <td>Iris-virginica</td>\n    </tr>\n  </tbody>\n</table>\n<p>152 rows × 5 columns</p>\n</div>"
     },
     "execution_count": 8,
     "metadata": {},
     "output_type": "execute_result"
    }
   ],
   "source": [
    "import pandas as pd\n",
    "\n",
    "iris_data = pd.read_csv(r\"..\\data\\iris.tab\", sep=\"\\t\")  # it is tab-separated\n",
    "iris_data"
   ],
   "metadata": {
    "collapsed": false,
    "ExecuteTime": {
     "end_time": "2024-06-14T14:55:52.072816100Z",
     "start_time": "2024-06-14T14:55:50.713958700Z"
    }
   },
   "id": "c478a876e96ca3e0"
  },
  {
   "cell_type": "markdown",
   "source": [
    "there is some meta-data in the file that we do not need here (rows 0 and 1) - let's drop that"
   ],
   "metadata": {
    "collapsed": false
   },
   "id": "3369ae2582c5bf21"
  },
  {
   "cell_type": "code",
   "execution_count": 9,
   "outputs": [
    {
     "data": {
      "text/plain": "    sepal length sepal width petal length petal width            iris\n2            5.1         3.5          1.4         0.2     Iris-setosa\n3            4.9         3.0          1.4         0.2     Iris-setosa\n4            4.7         3.2          1.3         0.2     Iris-setosa\n5            4.6         3.1          1.5         0.2     Iris-setosa\n6            5.0         3.6          1.4         0.2     Iris-setosa\n..           ...         ...          ...         ...             ...\n147          6.7         3.0          5.2         2.3  Iris-virginica\n148          6.3         2.5          5.0         1.9  Iris-virginica\n149          6.5         3.0          5.2         2.0  Iris-virginica\n150          6.2         3.4          5.4         2.3  Iris-virginica\n151          5.9         3.0          5.1         1.8  Iris-virginica\n\n[150 rows x 5 columns]",
      "text/html": "<div>\n<style scoped>\n    .dataframe tbody tr th:only-of-type {\n        vertical-align: middle;\n    }\n\n    .dataframe tbody tr th {\n        vertical-align: top;\n    }\n\n    .dataframe thead th {\n        text-align: right;\n    }\n</style>\n<table border=\"1\" class=\"dataframe\">\n  <thead>\n    <tr style=\"text-align: right;\">\n      <th></th>\n      <th>sepal length</th>\n      <th>sepal width</th>\n      <th>petal length</th>\n      <th>petal width</th>\n      <th>iris</th>\n    </tr>\n  </thead>\n  <tbody>\n    <tr>\n      <th>2</th>\n      <td>5.1</td>\n      <td>3.5</td>\n      <td>1.4</td>\n      <td>0.2</td>\n      <td>Iris-setosa</td>\n    </tr>\n    <tr>\n      <th>3</th>\n      <td>4.9</td>\n      <td>3.0</td>\n      <td>1.4</td>\n      <td>0.2</td>\n      <td>Iris-setosa</td>\n    </tr>\n    <tr>\n      <th>4</th>\n      <td>4.7</td>\n      <td>3.2</td>\n      <td>1.3</td>\n      <td>0.2</td>\n      <td>Iris-setosa</td>\n    </tr>\n    <tr>\n      <th>5</th>\n      <td>4.6</td>\n      <td>3.1</td>\n      <td>1.5</td>\n      <td>0.2</td>\n      <td>Iris-setosa</td>\n    </tr>\n    <tr>\n      <th>6</th>\n      <td>5.0</td>\n      <td>3.6</td>\n      <td>1.4</td>\n      <td>0.2</td>\n      <td>Iris-setosa</td>\n    </tr>\n    <tr>\n      <th>...</th>\n      <td>...</td>\n      <td>...</td>\n      <td>...</td>\n      <td>...</td>\n      <td>...</td>\n    </tr>\n    <tr>\n      <th>147</th>\n      <td>6.7</td>\n      <td>3.0</td>\n      <td>5.2</td>\n      <td>2.3</td>\n      <td>Iris-virginica</td>\n    </tr>\n    <tr>\n      <th>148</th>\n      <td>6.3</td>\n      <td>2.5</td>\n      <td>5.0</td>\n      <td>1.9</td>\n      <td>Iris-virginica</td>\n    </tr>\n    <tr>\n      <th>149</th>\n      <td>6.5</td>\n      <td>3.0</td>\n      <td>5.2</td>\n      <td>2.0</td>\n      <td>Iris-virginica</td>\n    </tr>\n    <tr>\n      <th>150</th>\n      <td>6.2</td>\n      <td>3.4</td>\n      <td>5.4</td>\n      <td>2.3</td>\n      <td>Iris-virginica</td>\n    </tr>\n    <tr>\n      <th>151</th>\n      <td>5.9</td>\n      <td>3.0</td>\n      <td>5.1</td>\n      <td>1.8</td>\n      <td>Iris-virginica</td>\n    </tr>\n  </tbody>\n</table>\n<p>150 rows × 5 columns</p>\n</div>"
     },
     "execution_count": 9,
     "metadata": {},
     "output_type": "execute_result"
    }
   ],
   "source": [
    "# we can delete it in-place\n",
    "\n",
    "iris_data.drop(iris_data.iloc[0:2].index, inplace=True)\n",
    "iris_data"
   ],
   "metadata": {
    "collapsed": false,
    "ExecuteTime": {
     "end_time": "2024-06-14T14:55:53.783759700Z",
     "start_time": "2024-06-14T14:55:53.751633600Z"
    }
   },
   "id": "20e03eea4e2db4c2"
  },
  {
   "cell_type": "code",
   "execution_count": 14,
   "outputs": [
    {
     "name": "stdout",
     "output_type": "stream",
     "text": [
      "<class 'pandas.core.frame.DataFrame'>\n",
      "RangeIndex: 150 entries, 2 to 151\n",
      "Data columns (total 5 columns):\n",
      " #   Column        Non-Null Count  Dtype \n",
      "---  ------        --------------  ----- \n",
      " 0   sepal length  150 non-null    object\n",
      " 1   sepal width   150 non-null    object\n",
      " 2   petal length  150 non-null    object\n",
      " 3   petal width   150 non-null    object\n",
      " 4   iris          150 non-null    object\n",
      "dtypes: object(5)\n",
      "memory usage: 6.0+ KB\n"
     ]
    }
   ],
   "source": [
    "iris_data.info()"
   ],
   "metadata": {
    "collapsed": false,
    "ExecuteTime": {
     "end_time": "2024-06-14T14:57:43.135971400Z",
     "start_time": "2024-06-14T14:57:43.070574500Z"
    }
   },
   "id": "e6c47dbf3f2f90"
  },
  {
   "cell_type": "code",
   "execution_count": 10,
   "outputs": [
    {
     "data": {
      "text/plain": "     sepal length  sepal width  petal length  petal width            iris\n0             5.1          3.5           1.4          0.2     Iris-setosa\n1             4.9          3.0           1.4          0.2     Iris-setosa\n2             4.7          3.2           1.3          0.2     Iris-setosa\n3             4.6          3.1           1.5          0.2     Iris-setosa\n4             5.0          3.6           1.4          0.2     Iris-setosa\n..            ...          ...           ...          ...             ...\n145           6.7          3.0           5.2          2.3  Iris-virginica\n146           6.3          2.5           5.0          1.9  Iris-virginica\n147           6.5          3.0           5.2          2.0  Iris-virginica\n148           6.2          3.4           5.4          2.3  Iris-virginica\n149           5.9          3.0           5.1          1.8  Iris-virginica\n\n[150 rows x 5 columns]",
      "text/html": "<div>\n<style scoped>\n    .dataframe tbody tr th:only-of-type {\n        vertical-align: middle;\n    }\n\n    .dataframe tbody tr th {\n        vertical-align: top;\n    }\n\n    .dataframe thead th {\n        text-align: right;\n    }\n</style>\n<table border=\"1\" class=\"dataframe\">\n  <thead>\n    <tr style=\"text-align: right;\">\n      <th></th>\n      <th>sepal length</th>\n      <th>sepal width</th>\n      <th>petal length</th>\n      <th>petal width</th>\n      <th>iris</th>\n    </tr>\n  </thead>\n  <tbody>\n    <tr>\n      <th>0</th>\n      <td>5.1</td>\n      <td>3.5</td>\n      <td>1.4</td>\n      <td>0.2</td>\n      <td>Iris-setosa</td>\n    </tr>\n    <tr>\n      <th>1</th>\n      <td>4.9</td>\n      <td>3.0</td>\n      <td>1.4</td>\n      <td>0.2</td>\n      <td>Iris-setosa</td>\n    </tr>\n    <tr>\n      <th>2</th>\n      <td>4.7</td>\n      <td>3.2</td>\n      <td>1.3</td>\n      <td>0.2</td>\n      <td>Iris-setosa</td>\n    </tr>\n    <tr>\n      <th>3</th>\n      <td>4.6</td>\n      <td>3.1</td>\n      <td>1.5</td>\n      <td>0.2</td>\n      <td>Iris-setosa</td>\n    </tr>\n    <tr>\n      <th>4</th>\n      <td>5.0</td>\n      <td>3.6</td>\n      <td>1.4</td>\n      <td>0.2</td>\n      <td>Iris-setosa</td>\n    </tr>\n    <tr>\n      <th>...</th>\n      <td>...</td>\n      <td>...</td>\n      <td>...</td>\n      <td>...</td>\n      <td>...</td>\n    </tr>\n    <tr>\n      <th>145</th>\n      <td>6.7</td>\n      <td>3.0</td>\n      <td>5.2</td>\n      <td>2.3</td>\n      <td>Iris-virginica</td>\n    </tr>\n    <tr>\n      <th>146</th>\n      <td>6.3</td>\n      <td>2.5</td>\n      <td>5.0</td>\n      <td>1.9</td>\n      <td>Iris-virginica</td>\n    </tr>\n    <tr>\n      <th>147</th>\n      <td>6.5</td>\n      <td>3.0</td>\n      <td>5.2</td>\n      <td>2.0</td>\n      <td>Iris-virginica</td>\n    </tr>\n    <tr>\n      <th>148</th>\n      <td>6.2</td>\n      <td>3.4</td>\n      <td>5.4</td>\n      <td>2.3</td>\n      <td>Iris-virginica</td>\n    </tr>\n    <tr>\n      <th>149</th>\n      <td>5.9</td>\n      <td>3.0</td>\n      <td>5.1</td>\n      <td>1.8</td>\n      <td>Iris-virginica</td>\n    </tr>\n  </tbody>\n</table>\n<p>150 rows × 5 columns</p>\n</div>"
     },
     "execution_count": 10,
     "metadata": {},
     "output_type": "execute_result"
    }
   ],
   "source": [
    "# or, and preferred, we can skip it when reading the file\n",
    "\n",
    "iris_data_2 = pd.read_csv(r\"..\\data\\iris.tab\", sep=\"\\t\", skiprows=[1,2])\n",
    "iris_data_2"
   ],
   "metadata": {
    "collapsed": false,
    "ExecuteTime": {
     "end_time": "2024-06-14T14:55:55.138828500Z",
     "start_time": "2024-06-14T14:55:55.067057500Z"
    }
   },
   "id": "4a26e8e766124d5b"
  },
  {
   "cell_type": "code",
   "execution_count": 12,
   "outputs": [
    {
     "data": {
      "text/plain": "5.843333333333334"
     },
     "execution_count": 12,
     "metadata": {},
     "output_type": "execute_result"
    }
   ],
   "source": [
    "iris_data_2[\"sepal length\"].mean()"
   ],
   "metadata": {
    "collapsed": false,
    "ExecuteTime": {
     "end_time": "2024-06-14T14:56:02.845926400Z",
     "start_time": "2024-06-14T14:56:02.741020100Z"
    }
   },
   "id": "a3576207f36e5684"
  },
  {
   "cell_type": "code",
   "execution_count": 13,
   "outputs": [
    {
     "name": "stdout",
     "output_type": "stream",
     "text": [
      "<class 'pandas.core.frame.DataFrame'>\n",
      "RangeIndex: 150 entries, 0 to 149\n",
      "Data columns (total 5 columns):\n",
      " #   Column        Non-Null Count  Dtype  \n",
      "---  ------        --------------  -----  \n",
      " 0   sepal length  150 non-null    float64\n",
      " 1   sepal width   150 non-null    float64\n",
      " 2   petal length  150 non-null    float64\n",
      " 3   petal width   150 non-null    float64\n",
      " 4   iris          150 non-null    object \n",
      "dtypes: float64(4), object(1)\n",
      "memory usage: 6.0+ KB\n"
     ]
    }
   ],
   "source": [
    "iris_data_2.info()"
   ],
   "metadata": {
    "collapsed": false,
    "ExecuteTime": {
     "end_time": "2024-06-14T14:56:46.104322800Z",
     "start_time": "2024-06-14T14:56:46.014136400Z"
    }
   },
   "id": "9d78dc5f2b2c0a51"
  },
  {
   "cell_type": "code",
   "execution_count": 37,
   "outputs": [
    {
     "data": {
      "text/plain": "       sepal length  sepal width  petal length  petal width\ncount    150.000000   150.000000    150.000000   150.000000\nmean       5.843333     3.054000      3.758667     1.198667\nstd        0.828066     0.433594      1.764420     0.763161\nmin        4.300000     2.000000      1.000000     0.100000\n25%        5.100000     2.800000      1.600000     0.300000\n50%        5.800000     3.000000      4.350000     1.300000\n75%        6.400000     3.300000      5.100000     1.800000\nmax        7.900000     4.400000      6.900000     2.500000",
      "text/html": "<div>\n<style scoped>\n    .dataframe tbody tr th:only-of-type {\n        vertical-align: middle;\n    }\n\n    .dataframe tbody tr th {\n        vertical-align: top;\n    }\n\n    .dataframe thead th {\n        text-align: right;\n    }\n</style>\n<table border=\"1\" class=\"dataframe\">\n  <thead>\n    <tr style=\"text-align: right;\">\n      <th></th>\n      <th>sepal length</th>\n      <th>sepal width</th>\n      <th>petal length</th>\n      <th>petal width</th>\n    </tr>\n  </thead>\n  <tbody>\n    <tr>\n      <th>count</th>\n      <td>150.000000</td>\n      <td>150.000000</td>\n      <td>150.000000</td>\n      <td>150.000000</td>\n    </tr>\n    <tr>\n      <th>mean</th>\n      <td>5.843333</td>\n      <td>3.054000</td>\n      <td>3.758667</td>\n      <td>1.198667</td>\n    </tr>\n    <tr>\n      <th>std</th>\n      <td>0.828066</td>\n      <td>0.433594</td>\n      <td>1.764420</td>\n      <td>0.763161</td>\n    </tr>\n    <tr>\n      <th>min</th>\n      <td>4.300000</td>\n      <td>2.000000</td>\n      <td>1.000000</td>\n      <td>0.100000</td>\n    </tr>\n    <tr>\n      <th>25%</th>\n      <td>5.100000</td>\n      <td>2.800000</td>\n      <td>1.600000</td>\n      <td>0.300000</td>\n    </tr>\n    <tr>\n      <th>50%</th>\n      <td>5.800000</td>\n      <td>3.000000</td>\n      <td>4.350000</td>\n      <td>1.300000</td>\n    </tr>\n    <tr>\n      <th>75%</th>\n      <td>6.400000</td>\n      <td>3.300000</td>\n      <td>5.100000</td>\n      <td>1.800000</td>\n    </tr>\n    <tr>\n      <th>max</th>\n      <td>7.900000</td>\n      <td>4.400000</td>\n      <td>6.900000</td>\n      <td>2.500000</td>\n    </tr>\n  </tbody>\n</table>\n</div>"
     },
     "execution_count": 37,
     "metadata": {},
     "output_type": "execute_result"
    }
   ],
   "source": [
    "iris_data_2.describe()"
   ],
   "metadata": {
    "collapsed": false,
    "ExecuteTime": {
     "end_time": "2024-06-10T13:58:05.753855500Z",
     "start_time": "2024-06-10T13:58:05.703615300Z"
    }
   },
   "id": "86c4c2d7d9988c3d"
  },
  {
   "cell_type": "code",
   "execution_count": 38,
   "outputs": [
    {
     "data": {
      "text/plain": "       sepal length  sepal width  petal length  petal width\ncount      50.00000    50.000000     50.000000     50.00000\nmean        5.00600     3.418000      1.464000      0.24400\nstd         0.35249     0.381024      0.173511      0.10721\nmin         4.30000     2.300000      1.000000      0.10000\n25%         4.80000     3.125000      1.400000      0.20000\n50%         5.00000     3.400000      1.500000      0.20000\n75%         5.20000     3.675000      1.575000      0.30000\nmax         5.80000     4.400000      1.900000      0.60000",
      "text/html": "<div>\n<style scoped>\n    .dataframe tbody tr th:only-of-type {\n        vertical-align: middle;\n    }\n\n    .dataframe tbody tr th {\n        vertical-align: top;\n    }\n\n    .dataframe thead th {\n        text-align: right;\n    }\n</style>\n<table border=\"1\" class=\"dataframe\">\n  <thead>\n    <tr style=\"text-align: right;\">\n      <th></th>\n      <th>sepal length</th>\n      <th>sepal width</th>\n      <th>petal length</th>\n      <th>petal width</th>\n    </tr>\n  </thead>\n  <tbody>\n    <tr>\n      <th>count</th>\n      <td>50.00000</td>\n      <td>50.000000</td>\n      <td>50.000000</td>\n      <td>50.00000</td>\n    </tr>\n    <tr>\n      <th>mean</th>\n      <td>5.00600</td>\n      <td>3.418000</td>\n      <td>1.464000</td>\n      <td>0.24400</td>\n    </tr>\n    <tr>\n      <th>std</th>\n      <td>0.35249</td>\n      <td>0.381024</td>\n      <td>0.173511</td>\n      <td>0.10721</td>\n    </tr>\n    <tr>\n      <th>min</th>\n      <td>4.30000</td>\n      <td>2.300000</td>\n      <td>1.000000</td>\n      <td>0.10000</td>\n    </tr>\n    <tr>\n      <th>25%</th>\n      <td>4.80000</td>\n      <td>3.125000</td>\n      <td>1.400000</td>\n      <td>0.20000</td>\n    </tr>\n    <tr>\n      <th>50%</th>\n      <td>5.00000</td>\n      <td>3.400000</td>\n      <td>1.500000</td>\n      <td>0.20000</td>\n    </tr>\n    <tr>\n      <th>75%</th>\n      <td>5.20000</td>\n      <td>3.675000</td>\n      <td>1.575000</td>\n      <td>0.30000</td>\n    </tr>\n    <tr>\n      <th>max</th>\n      <td>5.80000</td>\n      <td>4.400000</td>\n      <td>1.900000</td>\n      <td>0.60000</td>\n    </tr>\n  </tbody>\n</table>\n</div>"
     },
     "execution_count": 38,
     "metadata": {},
     "output_type": "execute_result"
    }
   ],
   "source": [
    "# not bad, but now all iris variants are mixed up...\n",
    "\n",
    "iris_data_2[iris_data_2[\"iris\"] == \"Iris-setosa\"].describe()"
   ],
   "metadata": {
    "collapsed": false,
    "ExecuteTime": {
     "end_time": "2024-06-10T13:58:48.006121300Z",
     "start_time": "2024-06-10T13:58:47.947356300Z"
    }
   },
   "id": "a4cfcd617d249c8"
  },
  {
   "cell_type": "code",
   "execution_count": 39,
   "outputs": [
    {
     "data": {
      "text/plain": "       sepal length  sepal width  petal length  petal width\ncount     50.000000    50.000000     50.000000    50.000000\nmean       5.936000     2.770000      4.260000     1.326000\nstd        0.516171     0.313798      0.469911     0.197753\nmin        4.900000     2.000000      3.000000     1.000000\n25%        5.600000     2.525000      4.000000     1.200000\n50%        5.900000     2.800000      4.350000     1.300000\n75%        6.300000     3.000000      4.600000     1.500000\nmax        7.000000     3.400000      5.100000     1.800000",
      "text/html": "<div>\n<style scoped>\n    .dataframe tbody tr th:only-of-type {\n        vertical-align: middle;\n    }\n\n    .dataframe tbody tr th {\n        vertical-align: top;\n    }\n\n    .dataframe thead th {\n        text-align: right;\n    }\n</style>\n<table border=\"1\" class=\"dataframe\">\n  <thead>\n    <tr style=\"text-align: right;\">\n      <th></th>\n      <th>sepal length</th>\n      <th>sepal width</th>\n      <th>petal length</th>\n      <th>petal width</th>\n    </tr>\n  </thead>\n  <tbody>\n    <tr>\n      <th>count</th>\n      <td>50.000000</td>\n      <td>50.000000</td>\n      <td>50.000000</td>\n      <td>50.000000</td>\n    </tr>\n    <tr>\n      <th>mean</th>\n      <td>5.936000</td>\n      <td>2.770000</td>\n      <td>4.260000</td>\n      <td>1.326000</td>\n    </tr>\n    <tr>\n      <th>std</th>\n      <td>0.516171</td>\n      <td>0.313798</td>\n      <td>0.469911</td>\n      <td>0.197753</td>\n    </tr>\n    <tr>\n      <th>min</th>\n      <td>4.900000</td>\n      <td>2.000000</td>\n      <td>3.000000</td>\n      <td>1.000000</td>\n    </tr>\n    <tr>\n      <th>25%</th>\n      <td>5.600000</td>\n      <td>2.525000</td>\n      <td>4.000000</td>\n      <td>1.200000</td>\n    </tr>\n    <tr>\n      <th>50%</th>\n      <td>5.900000</td>\n      <td>2.800000</td>\n      <td>4.350000</td>\n      <td>1.300000</td>\n    </tr>\n    <tr>\n      <th>75%</th>\n      <td>6.300000</td>\n      <td>3.000000</td>\n      <td>4.600000</td>\n      <td>1.500000</td>\n    </tr>\n    <tr>\n      <th>max</th>\n      <td>7.000000</td>\n      <td>3.400000</td>\n      <td>5.100000</td>\n      <td>1.800000</td>\n    </tr>\n  </tbody>\n</table>\n</div>"
     },
     "execution_count": 39,
     "metadata": {},
     "output_type": "execute_result"
    }
   ],
   "source": [
    "iris_data_2[iris_data_2[\"iris\"] == \"Iris-versicolor\"].describe()"
   ],
   "metadata": {
    "collapsed": false,
    "ExecuteTime": {
     "end_time": "2024-06-10T13:58:58.290714100Z",
     "start_time": "2024-06-10T13:58:58.246925200Z"
    }
   },
   "id": "1511bf3c678ab7e5"
  },
  {
   "cell_type": "code",
   "execution_count": 40,
   "outputs": [
    {
     "data": {
      "text/plain": "       sepal length  sepal width  petal length  petal width\ncount      50.00000    50.000000     50.000000     50.00000\nmean        6.58800     2.974000      5.552000      2.02600\nstd         0.63588     0.322497      0.551895      0.27465\nmin         4.90000     2.200000      4.500000      1.40000\n25%         6.22500     2.800000      5.100000      1.80000\n50%         6.50000     3.000000      5.550000      2.00000\n75%         6.90000     3.175000      5.875000      2.30000\nmax         7.90000     3.800000      6.900000      2.50000",
      "text/html": "<div>\n<style scoped>\n    .dataframe tbody tr th:only-of-type {\n        vertical-align: middle;\n    }\n\n    .dataframe tbody tr th {\n        vertical-align: top;\n    }\n\n    .dataframe thead th {\n        text-align: right;\n    }\n</style>\n<table border=\"1\" class=\"dataframe\">\n  <thead>\n    <tr style=\"text-align: right;\">\n      <th></th>\n      <th>sepal length</th>\n      <th>sepal width</th>\n      <th>petal length</th>\n      <th>petal width</th>\n    </tr>\n  </thead>\n  <tbody>\n    <tr>\n      <th>count</th>\n      <td>50.00000</td>\n      <td>50.000000</td>\n      <td>50.000000</td>\n      <td>50.00000</td>\n    </tr>\n    <tr>\n      <th>mean</th>\n      <td>6.58800</td>\n      <td>2.974000</td>\n      <td>5.552000</td>\n      <td>2.02600</td>\n    </tr>\n    <tr>\n      <th>std</th>\n      <td>0.63588</td>\n      <td>0.322497</td>\n      <td>0.551895</td>\n      <td>0.27465</td>\n    </tr>\n    <tr>\n      <th>min</th>\n      <td>4.90000</td>\n      <td>2.200000</td>\n      <td>4.500000</td>\n      <td>1.40000</td>\n    </tr>\n    <tr>\n      <th>25%</th>\n      <td>6.22500</td>\n      <td>2.800000</td>\n      <td>5.100000</td>\n      <td>1.80000</td>\n    </tr>\n    <tr>\n      <th>50%</th>\n      <td>6.50000</td>\n      <td>3.000000</td>\n      <td>5.550000</td>\n      <td>2.00000</td>\n    </tr>\n    <tr>\n      <th>75%</th>\n      <td>6.90000</td>\n      <td>3.175000</td>\n      <td>5.875000</td>\n      <td>2.30000</td>\n    </tr>\n    <tr>\n      <th>max</th>\n      <td>7.90000</td>\n      <td>3.800000</td>\n      <td>6.900000</td>\n      <td>2.50000</td>\n    </tr>\n  </tbody>\n</table>\n</div>"
     },
     "execution_count": 40,
     "metadata": {},
     "output_type": "execute_result"
    }
   ],
   "source": [
    "iris_data_2[iris_data_2[\"iris\"] == \"Iris-virginica\"].describe()"
   ],
   "metadata": {
    "collapsed": false,
    "ExecuteTime": {
     "end_time": "2024-06-10T13:59:23.195261600Z",
     "start_time": "2024-06-10T13:59:23.120823300Z"
    }
   },
   "id": "be3f1138dd3fc533"
  },
  {
   "cell_type": "markdown",
   "source": [
    "we can draw the first hypotheses from the statistical measures:\n",
    "\n",
    "* iris setosa should be distinguishable by its petal length and width\n",
    "* iris virginica has a somewhat bigger petal than iris versicolor, but not by that much as before\n",
    "* ...\n",
    "\n",
    "so we would like to be able to detect the iris variant by measuring its sepal and petal "
   ],
   "metadata": {
    "collapsed": false
   },
   "id": "5c834aff5d1215b8"
  },
  {
   "cell_type": "code",
   "execution_count": 41,
   "outputs": [
    {
     "data": {
      "text/plain": "<Axes: xlabel='iris'>"
     },
     "execution_count": 41,
     "metadata": {},
     "output_type": "execute_result"
    },
    {
     "data": {
      "text/plain": "<Figure size 640x480 with 1 Axes>",
      "image/png": "[encoded data removed]"
     },
     "metadata": {},
     "output_type": "display_data"
    }
   ],
   "source": [
    "# Visualisierung\n",
    "from matplotlib import pyplot as plt\n",
    "\n",
    "plt.style.use('dark_background')\n",
    "\n",
    "iris_data_2.groupby('iris')[\"iris\"].count().plot(kind='bar')\n",
    "# take a minute to think about what is going on here"
   ],
   "metadata": {
    "collapsed": false,
    "ExecuteTime": {
     "end_time": "2024-06-10T14:05:48.277195900Z",
     "start_time": "2024-06-10T14:05:46.819517500Z"
    }
   },
   "id": "d446fc22a5e8e88c"
  },
  {
   "cell_type": "code",
   "execution_count": 42,
   "outputs": [
    {
     "data": {
      "text/plain": "<Figure size 640x480 with 1 Axes>",
      "image/png": "[encoded data removed]"
     },
     "metadata": {},
     "output_type": "display_data"
    }
   ],
   "source": [
    "# separate data for easier access\n",
    "iris_data_setosa = iris_data_2[iris_data_2[\"iris\"] == \"Iris-setosa\"]\n",
    "iris_data_versic = iris_data_2[iris_data_2[\"iris\"] == \"Iris-versicolor\"]\n",
    "iris_data_virgin = iris_data_2[iris_data_2[\"iris\"] == \"Iris-virginica\"]\n",
    "\n",
    "# Axis-Objekt wiederbenutzen: alle Plots übereinander\n",
    "ax = plt.gca()\n",
    "iris_data_setosa.plot(kind=\"scatter\", x=\"sepal length\", y=\"sepal width\", color=\"red\", ax=ax)\n",
    "iris_data_versic.plot(kind=\"scatter\", x=\"sepal length\", y=\"sepal width\", color=\"blue\", ax=ax)\n",
    "iris_data_virgin.plot(kind=\"scatter\", x=\"sepal length\", y=\"sepal width\", color=\"green\", ax=ax)\n",
    "\n",
    "plt.show()"
   ],
   "metadata": {
    "collapsed": false,
    "ExecuteTime": {
     "end_time": "2024-06-10T14:06:33.961865500Z",
     "start_time": "2024-06-10T14:06:33.803050300Z"
    }
   },
   "id": "414dc848cc520e97"
  },
  {
   "cell_type": "code",
   "execution_count": 43,
   "outputs": [
    {
     "data": {
      "text/plain": "<Figure size 640x480 with 1 Axes>",
      "image/png": "[encoded data removed]"
     },
     "metadata": {},
     "output_type": "display_data"
    }
   ],
   "source": [
    "# wie sieht es mit den anderen Werten aus?\n",
    "ax = plt.gca()\n",
    "\n",
    "iris_data_setosa.plot(kind=\"scatter\", x=\"petal length\", y=\"petal width\", color=\"red\", ax=ax)\n",
    "iris_data_versic.plot(kind=\"scatter\", x=\"petal length\", y=\"petal width\", color=\"blue\", ax=ax)\n",
    "iris_data_virgin.plot(kind=\"scatter\", x=\"petal length\", y=\"petal width\", color=\"green\", ax=ax)\n",
    "\n",
    "plt.show()"
   ],
   "metadata": {
    "collapsed": false,
    "ExecuteTime": {
     "end_time": "2024-06-10T14:07:07.181153800Z",
     "start_time": "2024-06-10T14:07:07.041438Z"
    }
   },
   "id": "e6ff051b165ee2e6"
  },
  {
   "cell_type": "code",
   "execution_count": null,
   "outputs": [],
   "source": [],
   "metadata": {
    "collapsed": false
   },
   "id": "7d4c9fc8e232275f"
  }
 ],
 "metadata": {
  "kernelspec": {
   "display_name": "Python 3",
   "language": "python",
   "name": "python3"
  },
  "language_info": {
   "codemirror_mode": {
    "name": "ipython",
    "version": 2
   },
   "file_extension": ".py",
   "mimetype": "text/x-python",
   "name": "python",
   "nbconvert_exporter": "python",
   "pygments_lexer": "ipython2",
   "version": "2.7.6"
  }
 },
 "nbformat": 4,
 "nbformat_minor": 5
}
