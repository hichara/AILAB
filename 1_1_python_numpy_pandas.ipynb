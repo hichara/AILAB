{
 "cells": [
  {
   "cell_type": "markdown",
   "source": [
    "# Python for NLP\n",
    "\n",
    "Based on: Sarkar: Text Analytics with Python (2nd Edition)\n",
    "Extended and updated by Heiko Rölke"
   ],
   "metadata": {
    "collapsed": false
   },
   "id": "1a1fe951d7e626f6"
  },
  {
   "cell_type": "markdown",
   "source": [
    "## Working with strings"
   ],
   "metadata": {
    "collapsed": false
   },
   "id": "4c3e79154cbdd6"
  },
  {
   "cell_type": "code",
   "execution_count": null,
   "outputs": [],
   "source": [
    "new_string = \"This is a String\"  # storing a string\n",
    "\n",
    "print('ID:', id(new_string))  # shows the object identifier (address)\n",
    "print('Type:', type(new_string))  # shows the object type\n",
    "print('Value:', new_string)  # shows the object value"
   ],
   "metadata": {
    "collapsed": false
   },
   "id": "13d4fd73daac8c24"
  },
  {
   "cell_type": "code",
   "execution_count": null,
   "outputs": [],
   "source": [
    "# simple string\n",
    "simple_string = 'Hello!' + \" I'm a simple string\"\n",
    "print(simple_string)"
   ],
   "metadata": {
    "collapsed": false
   },
   "id": "fa6cf63d78f4aad0"
  },
  {
   "cell_type": "code",
   "execution_count": null,
   "outputs": [],
   "source": [
    "# multi-line string, note the \\n (newline) escape character automatically created\n",
    "multi_line_string = \"\"\"Hello I'm\n",
    "a multi-line\n",
    "string!\"\"\"\n",
    "\n",
    "multi_line_string"
   ],
   "metadata": {
    "collapsed": false
   },
   "id": "ce1f8afd8158e4c8"
  },
  {
   "cell_type": "code",
   "execution_count": null,
   "outputs": [],
   "source": [
    "print(multi_line_string)"
   ],
   "metadata": {
    "collapsed": false
   },
   "id": "e3d74aea25e827c0"
  },
  {
   "cell_type": "code",
   "execution_count": null,
   "outputs": [],
   "source": [
    "# Normal string with escape sequences leading to a wrong file path!\n",
    "escaped_string = \"C:\\the_folder\\new_dir\\file.txt\"\n",
    "print(escaped_string)  # will cause errors if we try to open a file here"
   ],
   "metadata": {
    "collapsed": false
   },
   "id": "238d415ea739d315"
  },
  {
   "cell_type": "code",
   "execution_count": null,
   "outputs": [],
   "source": [
    "# raw string keeping the backslashes in its normal form\n",
    "raw_string = r'C:\\the_folder\\new_dir\\file.txt'\n",
    "print(raw_string)"
   ],
   "metadata": {
    "collapsed": false
   },
   "id": "9f50e764929f8a56"
  },
  {
   "cell_type": "code",
   "execution_count": null,
   "outputs": [],
   "source": [
    "# unicode string literals\n",
    "string_with_unicode = 'H\\u00e8llo!'\n",
    "print(string_with_unicode)"
   ],
   "metadata": {
    "collapsed": false
   },
   "id": "a49a8c14bf8e93c2"
  },
  {
   "cell_type": "code",
   "execution_count": null,
   "outputs": [],
   "source": [
    "more_unicode = 'I love Pizza 🍕!  Shall we book a cab 🚕 to get pizza?'\n",
    "print(more_unicode)"
   ],
   "metadata": {
    "collapsed": false
   },
   "id": "810f9be91df48c43"
  },
  {
   "cell_type": "code",
   "execution_count": null,
   "outputs": [],
   "source": [
    "print(string_with_unicode + '\\n' + more_unicode)"
   ],
   "metadata": {
    "collapsed": false
   },
   "id": "2187289f08476547"
  },
  {
   "cell_type": "code",
   "execution_count": null,
   "outputs": [],
   "source": [
    "' '.join([string_with_unicode, more_unicode])"
   ],
   "metadata": {
    "collapsed": false
   },
   "id": "ae827b47ee459d97"
  },
  {
   "cell_type": "markdown",
   "source": [
    "## Operationen mit Zeichenketten"
   ],
   "metadata": {
    "collapsed": false
   },
   "id": "83811873f68ccc1b"
  },
  {
   "cell_type": "markdown",
   "source": [
    "### Verkettung"
   ],
   "metadata": {
    "collapsed": false
   },
   "id": "cad209f931f7298"
  },
  {
   "cell_type": "code",
   "execution_count": null,
   "outputs": [],
   "source": [
    "'Hello 😊' + ' and welcome ' + 'to Python 🐍!'"
   ],
   "metadata": {
    "collapsed": false
   },
   "id": "61e6f121138580c4"
  },
  {
   "cell_type": "code",
   "execution_count": null,
   "outputs": [],
   "source": [
    "'Hello 😊' ' and welcome ' 'to Python 🐍!'"
   ],
   "metadata": {
    "collapsed": false
   },
   "id": "4ff1c7ffdc9f7411"
  },
  {
   "cell_type": "code",
   "execution_count": null,
   "outputs": [],
   "source": [
    "# concatenation of variables and literals\n",
    "s1 = 'Python 💻!'\n",
    "'Hello 😊 ' + s1"
   ],
   "metadata": {
    "collapsed": false
   },
   "id": "82fce5b24631ae51"
  },
  {
   "cell_type": "code",
   "execution_count": null,
   "outputs": [],
   "source": [
    "'Hello 😊 ' s1"
   ],
   "metadata": {
    "collapsed": false
   },
   "id": "783bfdd1c5ae4b5a"
  },
  {
   "cell_type": "code",
   "execution_count": null,
   "outputs": [],
   "source": [
    "# some more ways of concatenating strings\n",
    "s2 = '--🐍Python🐍--'\n",
    "s2 * 5"
   ],
   "metadata": {
    "collapsed": false
   },
   "id": "40963ec88a09e00c"
  },
  {
   "cell_type": "code",
   "execution_count": null,
   "outputs": [],
   "source": [
    "s1 + s2\n",
    "(s1 + s2) * 3"
   ],
   "metadata": {
    "collapsed": false
   },
   "id": "48eae49f63e5d32"
  },
  {
   "cell_type": "code",
   "execution_count": null,
   "outputs": [],
   "source": [
    "# concatenating several strings together in parentheses\n",
    "s3 = ('This '\n",
    "      'is another way '\n",
    "      'to concatenate '\n",
    "      'several strings!')\n",
    "s3"
   ],
   "metadata": {
    "collapsed": false
   },
   "id": "69085d703a2497f5"
  },
  {
   "cell_type": "code",
   "execution_count": null,
   "outputs": [],
   "source": [
    "# checking for substrings in a string\n",
    "'way' in s3"
   ],
   "metadata": {
    "collapsed": false
   },
   "id": "37fc37fb39ef62ce"
  },
  {
   "cell_type": "code",
   "execution_count": null,
   "outputs": [],
   "source": [
    "'python' in s3"
   ],
   "metadata": {
    "collapsed": false
   },
   "id": "451ba5d4a26daf4"
  },
  {
   "cell_type": "code",
   "execution_count": null,
   "outputs": [],
   "source": [
    "# computing total length of the string\n",
    "len(s3)"
   ],
   "metadata": {
    "collapsed": false
   },
   "id": "e5e3c5f71204bf50"
  },
  {
   "cell_type": "markdown",
   "source": [
    "## Indexing and Slicing"
   ],
   "metadata": {
    "collapsed": false
   },
   "id": "afcfff8443e68054"
  },
  {
   "cell_type": "code",
   "execution_count": null,
   "outputs": [],
   "source": [
    "s = 'PYTHON'\n",
    "# depicting string indexes\n",
    "for index, character in enumerate(s):\n",
    "    print('Character ->', character, 'has index->', index)"
   ],
   "metadata": {
    "collapsed": false
   },
   "id": "457029e6607bfd57"
  },
  {
   "cell_type": "code",
   "execution_count": null,
   "outputs": [],
   "source": [
    "s[0], s[1], s[2], s[3], s[4], s[5]"
   ],
   "metadata": {
    "collapsed": false
   },
   "id": "d7eebd77404b40d1"
  },
  {
   "cell_type": "code",
   "execution_count": null,
   "outputs": [],
   "source": [
    "s[-1], s[-2], s[-3], s[-4], s[-5], s[-6]"
   ],
   "metadata": {
    "collapsed": false
   },
   "id": "bcd5543c82ed31b6"
  },
  {
   "cell_type": "code",
   "execution_count": null,
   "outputs": [],
   "source": [
    "## String slicing\n",
    "s[:]"
   ],
   "metadata": {
    "collapsed": false
   },
   "id": "cbdfe8f16b163020"
  },
  {
   "cell_type": "code",
   "execution_count": null,
   "outputs": [],
   "source": [
    "s[1:4]"
   ],
   "metadata": {
    "collapsed": false
   },
   "id": "fec8c51ee46cb5ca"
  },
  {
   "cell_type": "code",
   "execution_count": null,
   "outputs": [],
   "source": [
    "s[:3], s[3:]"
   ],
   "metadata": {
    "collapsed": false
   },
   "id": "1b9060b9924b2849"
  },
  {
   "cell_type": "code",
   "execution_count": null,
   "outputs": [],
   "source": [
    "s[-3:]"
   ],
   "metadata": {
    "collapsed": false
   },
   "id": "bc3f40ef937d0efb"
  },
  {
   "cell_type": "code",
   "execution_count": null,
   "outputs": [],
   "source": [
    "s[:3] + s[3:]"
   ],
   "metadata": {
    "collapsed": false
   },
   "id": "de8ca97846d172c3"
  },
  {
   "cell_type": "code",
   "execution_count": null,
   "outputs": [],
   "source": [
    "s[:3] + s[-3:]"
   ],
   "metadata": {
    "collapsed": false
   },
   "id": "122bf9b24c3446c4"
  },
  {
   "cell_type": "markdown",
   "source": [
    "### String slicing with offsets"
   ],
   "metadata": {
    "collapsed": false
   },
   "id": "1e86a1d9e0bf23b1"
  },
  {
   "cell_type": "code",
   "execution_count": null,
   "outputs": [],
   "source": [
    "s[::1]  # no offset"
   ],
   "metadata": {
    "collapsed": false
   },
   "id": "6be3c68aba69dd82"
  },
  {
   "cell_type": "code",
   "execution_count": null,
   "outputs": [],
   "source": [
    "s[::2]  # print every 2nd character in string"
   ],
   "metadata": {
    "collapsed": false
   },
   "id": "bb460b8fe79b8e67"
  },
  {
   "cell_type": "code",
   "execution_count": null,
   "outputs": [],
   "source": [
    "s[::-1]  # reverses the string"
   ],
   "metadata": {
    "collapsed": false
   },
   "id": "ca1e091888107370"
  },
  {
   "cell_type": "markdown",
   "source": [
    "### strings are immutable"
   ],
   "metadata": {
    "collapsed": false
   },
   "id": "d01aed67c58382ec"
  },
  {
   "cell_type": "code",
   "execution_count": null,
   "outputs": [],
   "source": [
    "# strings are immutable hence assignment throws error\n",
    "s[0] = 'X'"
   ],
   "metadata": {
    "collapsed": false
   },
   "id": "3b98fd9663079fb7"
  },
  {
   "cell_type": "code",
   "execution_count": null,
   "outputs": [],
   "source": [
    "print('Original String id:', id(s))\n",
    "# creates a new string\n",
    "s = 'X' + s[1:]\n",
    "print(s)\n",
    "print('New String id:', id(s))"
   ],
   "metadata": {
    "collapsed": false
   },
   "id": "455148a8a3c29bec"
  },
  {
   "cell_type": "markdown",
   "source": [
    "## Useful String methods"
   ],
   "metadata": {
    "collapsed": false
   },
   "id": "fe5eb18f8da6f9cb"
  },
  {
   "cell_type": "markdown",
   "source": [
    "### Case conversions"
   ],
   "metadata": {
    "collapsed": false
   },
   "id": "91a097d35f0292fb"
  },
  {
   "cell_type": "code",
   "execution_count": null,
   "outputs": [],
   "source": [
    "s = 'python is great'\n",
    "s.capitalize()"
   ],
   "metadata": {
    "collapsed": false
   },
   "id": "e526415e8b9cd4de"
  },
  {
   "cell_type": "code",
   "execution_count": null,
   "outputs": [],
   "source": [
    "s.upper()"
   ],
   "metadata": {
    "collapsed": false
   },
   "id": "41396bb29b7a873f"
  },
  {
   "cell_type": "code",
   "execution_count": null,
   "outputs": [],
   "source": [
    "s.title()"
   ],
   "metadata": {
    "collapsed": false
   },
   "id": "82e6ac85fb1dba2d"
  },
  {
   "cell_type": "markdown",
   "source": [
    "### String replace"
   ],
   "metadata": {
    "collapsed": false
   },
   "id": "cb25c2b7e8b09dde"
  },
  {
   "cell_type": "code",
   "execution_count": null,
   "outputs": [],
   "source": [
    "s.replace('python', 'NLP')"
   ],
   "metadata": {
    "collapsed": false
   },
   "id": "296ecd1cff5f540e"
  },
  {
   "cell_type": "markdown",
   "source": [
    "### Numeric checks"
   ],
   "metadata": {
    "collapsed": false
   },
   "id": "ddad722d4307a0ac"
  },
  {
   "cell_type": "code",
   "execution_count": null,
   "outputs": [],
   "source": [
    "'12345'.isdecimal()"
   ],
   "metadata": {
    "collapsed": false
   },
   "id": "2a26fde017a76c12"
  },
  {
   "cell_type": "code",
   "execution_count": null,
   "outputs": [],
   "source": [
    "'apollo11'.isdecimal()"
   ],
   "metadata": {
    "collapsed": false
   },
   "id": "b08e082f69a2c499"
  },
  {
   "cell_type": "markdown",
   "source": [
    "### Alphabet checks"
   ],
   "metadata": {
    "collapsed": false
   },
   "id": "4e41a2f17f7b0bb"
  },
  {
   "cell_type": "code",
   "execution_count": null,
   "outputs": [],
   "source": [
    "'python'.isalpha()"
   ],
   "metadata": {
    "collapsed": false
   },
   "id": "9a57db94a1edaa1f"
  },
  {
   "cell_type": "code",
   "execution_count": null,
   "outputs": [],
   "source": [
    "'number1'.isalpha()"
   ],
   "metadata": {
    "collapsed": false
   },
   "id": "48253760ded048d1"
  },
  {
   "cell_type": "markdown",
   "source": [
    "### Alphanumeric checks"
   ],
   "metadata": {
    "collapsed": false
   },
   "id": "6acc039cf5c5c426"
  },
  {
   "cell_type": "code",
   "execution_count": null,
   "outputs": [],
   "source": [
    "'total'.isalnum()"
   ],
   "metadata": {
    "collapsed": false
   },
   "id": "f58e5d8a2ebebc10"
  },
  {
   "cell_type": "code",
   "execution_count": null,
   "outputs": [],
   "source": [
    "'abc123'.isalnum()"
   ],
   "metadata": {
    "collapsed": false
   },
   "id": "4810efe1101ff459"
  },
  {
   "cell_type": "code",
   "execution_count": null,
   "outputs": [],
   "source": [
    "'1+1'.isalnum()"
   ],
   "metadata": {
    "collapsed": false
   },
   "id": "4e22dcc83b2f8d59"
  },
  {
   "cell_type": "markdown",
   "source": [
    "### String splitting and joining"
   ],
   "metadata": {
    "collapsed": false
   },
   "id": "f496f464069f2b3"
  },
  {
   "cell_type": "code",
   "execution_count": null,
   "outputs": [],
   "source": [
    "s = 'I,am,a,comma,separated,string'\n",
    "s.split(',')"
   ],
   "metadata": {
    "collapsed": false
   },
   "id": "1d135964a59aa64b"
  },
  {
   "cell_type": "code",
   "execution_count": null,
   "outputs": [],
   "source": [
    "' '.join(s.split(','))"
   ],
   "metadata": {
    "collapsed": false
   },
   "id": "3dd860f80d51cb9f"
  },
  {
   "cell_type": "markdown",
   "source": [
    "## stripping whitespace characters"
   ],
   "metadata": {
    "collapsed": false
   },
   "id": "ce553e98a80d87fb"
  },
  {
   "cell_type": "code",
   "execution_count": null,
   "outputs": [],
   "source": [
    "s = '   I am surrounded by spaces    '\n",
    "s"
   ],
   "metadata": {
    "collapsed": false
   },
   "id": "149a7c12f777e91a"
  },
  {
   "cell_type": "code",
   "execution_count": null,
   "outputs": [],
   "source": [
    "s.strip()"
   ],
   "metadata": {
    "collapsed": false
   },
   "id": "15bc0e7aaec99402"
  },
  {
   "cell_type": "code",
   "execution_count": null,
   "outputs": [],
   "source": [
    "sentences = 'Python is great. NLP is also good.'\n",
    "sentences.split('.')"
   ],
   "metadata": {
    "collapsed": false
   },
   "id": "1af4c46a44751efb"
  },
  {
   "cell_type": "code",
   "execution_count": null,
   "outputs": [],
   "source": [
    "print('\\n'.join(sentences.split('.')))"
   ],
   "metadata": {
    "collapsed": false
   },
   "id": "41c0d369f973b38a"
  },
  {
   "cell_type": "code",
   "execution_count": null,
   "outputs": [],
   "source": [
    "print('\\n'.join([sentence.strip()\n",
    "                 for sentence in sentences.split('.')\n",
    "                 if sentence]))"
   ],
   "metadata": {
    "collapsed": false
   },
   "id": "9fea8627ff40ad39"
  },
  {
   "cell_type": "markdown",
   "source": [
    "## String formatting"
   ],
   "metadata": {
    "collapsed": false
   },
   "id": "380b9485590ff38e"
  },
  {
   "cell_type": "markdown",
   "source": [
    "### Simple string formatting expressions - very old style"
   ],
   "metadata": {
    "collapsed": false
   },
   "id": "53cca42266222631"
  },
  {
   "cell_type": "code",
   "execution_count": null,
   "outputs": [],
   "source": [
    "'Hello %s' % ('Python!')"
   ],
   "metadata": {
    "collapsed": false
   },
   "id": "d4620be909489bd3"
  },
  {
   "cell_type": "code",
   "execution_count": null,
   "outputs": [],
   "source": [
    "'Hello %s %s' % ('World!', 'How are you?')"
   ],
   "metadata": {
    "collapsed": false
   },
   "id": "72eb6723a83475b5"
  },
  {
   "cell_type": "markdown",
   "source": [
    "### Formatting expressions with different data types - very old style \n",
    "\n",
    "(C-like)"
   ],
   "metadata": {
    "collapsed": false
   },
   "id": "54c53f466ea8fb89"
  },
  {
   "cell_type": "code",
   "execution_count": null,
   "outputs": [],
   "source": [
    "'We have %d %s containing %.2f gallons of %s' % (2, 'bottles', 2.5, 'milk')"
   ],
   "metadata": {
    "collapsed": false
   },
   "id": "36d1857f6dae2f32"
  },
  {
   "cell_type": "code",
   "execution_count": null,
   "outputs": [],
   "source": [
    "'We have %d %s containing %.2f gallons of %s' % (5.21, 'jugs', 10.86763, 'juice')"
   ],
   "metadata": {
    "collapsed": false
   },
   "id": "89e72dd2da18e2ce"
  },
  {
   "cell_type": "markdown",
   "source": [
    "### Formatting strings using the format method - old style"
   ],
   "metadata": {
    "collapsed": false
   },
   "id": "c093598299ec4356"
  },
  {
   "cell_type": "code",
   "execution_count": null,
   "outputs": [],
   "source": [
    "'Hello {} {}, it is a great {} to meet you at {}'.format('Mr.', 'Jones', 'pleasure', 5)"
   ],
   "metadata": {
    "collapsed": false
   },
   "id": "98b3784a71464ee4"
  },
  {
   "cell_type": "code",
   "execution_count": null,
   "outputs": [],
   "source": [
    "'Hello {} {}, it is a great {} to meet you at {} o\\' clock'.format('Sir', 'Arthur', 'honor', 9)"
   ],
   "metadata": {
    "collapsed": false
   },
   "id": "1b8d290b7f4c5e7d"
  },
  {
   "cell_type": "markdown",
   "source": [
    "### Alternative ways of using string format"
   ],
   "metadata": {
    "collapsed": false
   },
   "id": "94c2209bd9134c14"
  },
  {
   "cell_type": "code",
   "execution_count": null,
   "outputs": [],
   "source": [
    "'I have a {food_item} and a {drink_item} with me'.format(drink_item='soda', food_item='sandwich')"
   ],
   "metadata": {
    "collapsed": false
   },
   "id": "13419a588149d45f"
  },
  {
   "cell_type": "code",
   "execution_count": null,
   "outputs": [],
   "source": [
    "'The {animal} has the following attributes: {attributes}'.format(animal='dog', attributes=['lazy', 'loyal'])"
   ],
   "metadata": {
    "collapsed": false
   },
   "id": "f0d2ade3460cf039"
  },
  {
   "cell_type": "markdown",
   "source": [
    "### New: f-Strings"
   ],
   "metadata": {
    "collapsed": false
   },
   "id": "1756092d2f28a62a"
  },
  {
   "cell_type": "code",
   "execution_count": null,
   "outputs": [],
   "source": [
    "s_neu = f\"2 + 2 ergibt {2+2}\"\n",
    "s_neu"
   ],
   "metadata": {
    "collapsed": false
   },
   "id": "2737dc09b5d32a7"
  },
  {
   "cell_type": "code",
   "execution_count": null,
   "outputs": [],
   "source": [
    "f\"This is the string: {s_neu}\""
   ],
   "metadata": {
    "collapsed": false
   },
   "id": "cff54d49415cabf4"
  },
  {
   "cell_type": "markdown",
   "source": [
    "## Regular Expressions"
   ],
   "metadata": {
    "collapsed": false
   },
   "id": "8ae38604af386914"
  },
  {
   "cell_type": "code",
   "execution_count": null,
   "outputs": [],
   "source": [
    "s1 = 'Python is an excellent language'\n",
    "s2 = 'I love the Python language. I also use Python to build applications at work!'"
   ],
   "metadata": {
    "collapsed": false
   },
   "id": "2020c13170a79e76"
  },
  {
   "cell_type": "code",
   "execution_count": null,
   "outputs": [],
   "source": [
    "import re\n",
    "\n",
    "pattern = 'python'\n",
    "# match only returns a match if regex match is found at the beginning of the string\n",
    "re.match(pattern, s1)"
   ],
   "metadata": {
    "collapsed": false
   },
   "id": "7ba31afeda28a55e"
  },
  {
   "cell_type": "code",
   "execution_count": null,
   "outputs": [],
   "source": [
    "# pattern is in lower case hence ignore case flag helps\n",
    "# in matching same pattern with different cases\n",
    "re.match(pattern, s1, flags=re.IGNORECASE)"
   ],
   "metadata": {
    "collapsed": false
   },
   "id": "eec19ddbd11b1243"
  },
  {
   "cell_type": "code",
   "execution_count": null,
   "outputs": [],
   "source": [
    "# printing matched string and its indices in the original string\n",
    "m = re.match(pattern, s1, flags=re.IGNORECASE)\n",
    "print(f'Found match {m.group(0)} ranging from index {m.start()} - {m.end()} in the string \"{s1}\"')"
   ],
   "metadata": {
    "collapsed": false
   },
   "id": "57408a4ec8020adb"
  },
  {
   "cell_type": "code",
   "execution_count": null,
   "outputs": [],
   "source": [
    "# match does not work when pattern is not there in the beginning of string s2\n",
    "re.match(pattern, s2, re.IGNORECASE)"
   ],
   "metadata": {
    "collapsed": false
   },
   "id": "abf2a4c1abc4da20"
  },
  {
   "cell_type": "code",
   "execution_count": null,
   "outputs": [],
   "source": [
    "# illustrating find and search methods using the re module\n",
    "re.search(pattern, s2, re.IGNORECASE)"
   ],
   "metadata": {
    "collapsed": false
   },
   "id": "14cb7b2c70f6e47a"
  },
  {
   "cell_type": "code",
   "execution_count": null,
   "outputs": [],
   "source": [
    "re.findall(pattern, s2, re.IGNORECASE)"
   ],
   "metadata": {
    "collapsed": false
   },
   "id": "7169afae853a08f0"
  },
  {
   "cell_type": "code",
   "execution_count": null,
   "outputs": [],
   "source": [
    "match_objs = re.finditer(pattern, s2, re.IGNORECASE)\n",
    "match_objs"
   ],
   "metadata": {
    "collapsed": false
   },
   "id": "349242970b0020e1"
  },
  {
   "cell_type": "code",
   "execution_count": null,
   "outputs": [],
   "source": [
    "# next(match_objs)"
   ],
   "metadata": {
    "collapsed": false
   },
   "id": "b4c6ef6bdd84f948"
  },
  {
   "cell_type": "code",
   "execution_count": null,
   "outputs": [],
   "source": [
    "print(\"String:\", s2)\n",
    "for m in match_objs:\n",
    "    print(f'Found match \"{m.group(0)}\" ranging from index {m.start()} - {m.end()}')"
   ],
   "metadata": {
    "collapsed": false
   },
   "id": "3f901a126071d20b"
  },
  {
   "cell_type": "code",
   "execution_count": null,
   "outputs": [],
   "source": [
    "# illustrating pattern substitution using sub and subn methods\n",
    "re.sub(pattern, 'Java', s2, flags=re.IGNORECASE)"
   ],
   "metadata": {
    "collapsed": false
   },
   "id": "cf71fe557a7646eb"
  },
  {
   "cell_type": "code",
   "execution_count": null,
   "outputs": [],
   "source": [
    "re.subn(pattern, 'Java', s2, flags=re.IGNORECASE)"
   ],
   "metadata": {
    "collapsed": false
   },
   "id": "c3be3f5f86288b87"
  },
  {
   "cell_type": "code",
   "execution_count": null,
   "outputs": [],
   "source": [
    "# dealing with unicode matching using regexes\n",
    "s = u'H\\u00e8llo! this is Python 🐍'\n",
    "s"
   ],
   "metadata": {
    "collapsed": false
   },
   "id": "b8fb97553e894ecf"
  },
  {
   "cell_type": "code",
   "execution_count": null,
   "outputs": [],
   "source": [
    "re.findall(r'\\w+', s)"
   ],
   "metadata": {
    "collapsed": false
   },
   "id": "341b60ce58a4ccd0"
  },
  {
   "cell_type": "code",
   "execution_count": null,
   "outputs": [],
   "source": [
    "re.findall(r\"[A-Z]\\w+\", s, re.UNICODE)"
   ],
   "metadata": {
    "collapsed": false
   },
   "id": "3bd24edad4482440"
  },
  {
   "cell_type": "code",
   "execution_count": null,
   "outputs": [],
   "source": [
    "emoji_pattern = r\"['\\U0001F300-\\U0001F5FF'|'\\U0001F600-\\U0001F64F'|'\\U0001F680-\\U0001F6FF'|'\\u2600-\\u26FF\\u2700-\\u27BF']\"\n",
    "re.findall(emoji_pattern, s, re.UNICODE)"
   ],
   "metadata": {
    "collapsed": false
   },
   "id": "b5d39fa51dcb0b8a"
  },
  {
   "cell_type": "markdown",
   "source": [
    "## Exercises\n",
    "\n",
    "1. Play around with the examples above by changing strings, index and slice numbers etc. Make yourself comfortable with the Python syntax (5 - 10 minutes)\n",
    "2. Copy a longer text from a website or write one yourself. (>= 100 words)\n",
    "    1. Go through the text and print all words beginning with a capital letter.\n",
    "    2. Do the same for all words in lowercase\n",
    "    3. Store the first two characters of each word in a new string. Remember to add spaces.\n",
    "    4. Do the same for the last three characters of each word.\n",
    "3. Use the text from the last exercise. Use regex to filter out all vowels.\n",
    "4. Invert exercise 3 (keep only vowels).\n",
    "\n",
    "If you are already knowledgeable in Python and bored by the tasks above, solve them using list comprehensions. \n",
    "Come up with more difficult exercises like:\n",
    "1. Use two longer Texts. Which words occur in both texts?\n",
    "2. Go from words to character-level. Find the longest character sub-sequence of two texts. This sub-sequence may spread over whitespace and several words.\n",
    "3. ...  "
   ],
   "metadata": {
    "collapsed": false
   },
   "id": "19ffe1cc11a86d4a"
  },
  {
   "cell_type": "markdown",
   "source": [
    "# numpy and pandas\n",
    "\n",
    "The most important data handling libraries in Python."
   ],
   "metadata": {
    "collapsed": false
   },
   "id": "d7850ad19c8c4de9"
  },
  {
   "cell_type": "markdown",
   "source": [
    "## NumPy\n",
    "\n",
    "NumPy delivers fast and memory efficient n-dimensional arrays.\n"
   ],
   "metadata": {
    "collapsed": false
   },
   "id": "356f361daccfd531"
  },
  {
   "cell_type": "code",
   "execution_count": null,
   "id": "initial_id",
   "metadata": {
    "collapsed": true
   },
   "outputs": [],
   "source": [
    "# the name \"np\" is some kind of best practise\n",
    "import numpy as np"
   ]
  },
  {
   "cell_type": "code",
   "execution_count": null,
   "outputs": [],
   "source": [
    "# a one-dimensional array (vector) has n rows and 1 column\n",
    "a1 = np.array([1,2,3,4])\n",
    "a1"
   ],
   "metadata": {
    "collapsed": false
   },
   "id": "2792b48958e86b17"
  },
  {
   "cell_type": "code",
   "execution_count": null,
   "outputs": [],
   "source": [
    "a2 = np.array([[1,2], [3,4], [5,6]])\n",
    "a2"
   ],
   "metadata": {
    "collapsed": false
   },
   "id": "43c8c569d6ad1bdb"
  },
  {
   "cell_type": "markdown",
   "source": [
    "### Fast creation of arrays"
   ],
   "metadata": {
    "collapsed": false
   },
   "id": "a01e90ad113052b8"
  },
  {
   "cell_type": "code",
   "execution_count": null,
   "outputs": [],
   "source": [
    "np.zeros(3)"
   ],
   "metadata": {
    "collapsed": false
   },
   "id": "c3d02934f348a7ad"
  },
  {
   "cell_type": "code",
   "execution_count": null,
   "outputs": [],
   "source": [
    "np.ones((4,4))"
   ],
   "metadata": {
    "collapsed": false
   },
   "id": "c6032420da02a1f8"
  },
  {
   "cell_type": "code",
   "execution_count": null,
   "outputs": [],
   "source": [
    "# be careful - may contain junk data\n",
    "np.empty(3)"
   ],
   "metadata": {
    "collapsed": false
   },
   "id": "f26672fdae3f94d7"
  },
  {
   "cell_type": "code",
   "execution_count": null,
   "outputs": [],
   "source": [
    "# supports a variant of the \"range\" function\n",
    "np.arange(5)"
   ],
   "metadata": {
    "collapsed": false
   },
   "id": "ee8ae75c652d0800"
  },
  {
   "cell_type": "code",
   "execution_count": null,
   "outputs": [],
   "source": [
    "# start, stop, step\n",
    "np.arange(3,21,2).reshape((3,3))"
   ],
   "metadata": {
    "collapsed": false
   },
   "id": "a94fdab11efa2464"
  },
  {
   "cell_type": "markdown",
   "source": [
    "### Some example operations"
   ],
   "metadata": {
    "collapsed": false
   },
   "id": "8eaf58f7dfbedec6"
  },
  {
   "cell_type": "code",
   "execution_count": null,
   "outputs": [],
   "source": [
    "np.sort(np.array([3,5,4,1,2,7,8,9,6]))"
   ],
   "metadata": {
    "collapsed": false
   },
   "id": "96632d38f68ac0df"
  },
  {
   "cell_type": "markdown",
   "source": [
    "Note that there are various ways of sorting along axes (dimensions), partial sorting, etc. We will not got into detail here."
   ],
   "metadata": {
    "collapsed": false
   },
   "id": "4af3c0160385a490"
  },
  {
   "cell_type": "code",
   "execution_count": null,
   "outputs": [],
   "source": [
    "a1 = np.array([[1, 2]])\n",
    "a2 = np.array([[5, 6]])\n",
    "\n",
    "np.concatenate((a1, a2))"
   ],
   "metadata": {
    "collapsed": false
   },
   "id": "5c03d3f519afcfcb"
  },
  {
   "cell_type": "code",
   "execution_count": null,
   "outputs": [],
   "source": [
    "np.concatenate((a1, a2), axis=1)  # this does only work for fitting dimensions - try it"
   ],
   "metadata": {
    "collapsed": false
   },
   "id": "303b708ba9ec4187"
  },
  {
   "cell_type": "code",
   "execution_count": null,
   "outputs": [],
   "source": [
    "a3 = np.array([[1, 1], [2, 2]])\n",
    "a4 = np.array([[3, 3], [4, 4]])\n",
    "\n",
    "np.vstack((a3,a4))"
   ],
   "metadata": {
    "collapsed": false
   },
   "id": "ed8b96c5f413f948"
  },
  {
   "cell_type": "code",
   "execution_count": null,
   "outputs": [],
   "source": [
    "np.hstack((a3,a4))"
   ],
   "metadata": {
    "collapsed": false
   },
   "id": "29106dff9b30c38e"
  },
  {
   "cell_type": "markdown",
   "source": [
    "### Indexing, slicing, filtering"
   ],
   "metadata": {
    "collapsed": false
   },
   "id": "e876a487d954daed"
  },
  {
   "cell_type": "code",
   "execution_count": null,
   "outputs": [],
   "source": [
    "a1 = np.arange(1,10)\n",
    "a1"
   ],
   "metadata": {
    "collapsed": false
   },
   "id": "3baaa76b2f89a2c8"
  },
  {
   "cell_type": "code",
   "execution_count": null,
   "outputs": [],
   "source": [
    "a1[5]"
   ],
   "metadata": {
    "collapsed": false
   },
   "id": "9bfae96b5defac62"
  },
  {
   "cell_type": "code",
   "execution_count": null,
   "outputs": [],
   "source": [
    "a1[-3]"
   ],
   "metadata": {
    "collapsed": false
   },
   "id": "455e18a72da7a51a"
  },
  {
   "cell_type": "code",
   "execution_count": null,
   "outputs": [],
   "source": [
    "a1[2:5]"
   ],
   "metadata": {
    "collapsed": false
   },
   "id": "7f5034414b8fdf"
  },
  {
   "cell_type": "code",
   "execution_count": null,
   "outputs": [],
   "source": [
    "a1[5:]"
   ],
   "metadata": {
    "collapsed": false
   },
   "id": "996ce4270e767c84"
  },
  {
   "cell_type": "code",
   "execution_count": null,
   "outputs": [],
   "source": [
    "a2 = np.arange(1,10).reshape((3,3))\n",
    "a2"
   ],
   "metadata": {
    "collapsed": false
   },
   "id": "dab7176160fd2344"
  },
  {
   "cell_type": "code",
   "execution_count": null,
   "outputs": [],
   "source": [
    "# this will not work - we have to use both dimensions\n",
    "a2[5]"
   ],
   "metadata": {
    "collapsed": false
   },
   "id": "4bd97d705aec21d1"
  },
  {
   "cell_type": "code",
   "execution_count": null,
   "outputs": [],
   "source": [
    "a2[1,1]"
   ],
   "metadata": {
    "collapsed": false
   },
   "id": "eb5420d38da2b6bc"
  },
  {
   "cell_type": "code",
   "execution_count": null,
   "outputs": [],
   "source": [
    "# you need some time getting used to such a notation (at least this was the case for me...)\n",
    "a2[:,:]"
   ],
   "metadata": {
    "collapsed": false
   },
   "id": "6f1d6b580e612bd2"
  },
  {
   "cell_type": "code",
   "execution_count": null,
   "outputs": [],
   "source": [
    "a2[0,1:3]"
   ],
   "metadata": {
    "collapsed": false
   },
   "id": "8352033290eb824c"
  },
  {
   "cell_type": "code",
   "execution_count": null,
   "outputs": [],
   "source": [
    "# addressing columns/rows directly\n",
    "a2[:,[0,2]]"
   ],
   "metadata": {
    "collapsed": false
   },
   "id": "22d4ea57a0a276ad"
  },
  {
   "cell_type": "markdown",
   "source": [
    "Conditions hand back bool values that can be used for filtering/masking"
   ],
   "metadata": {
    "collapsed": false
   },
   "id": "2e7e908d8f4a7bce"
  },
  {
   "cell_type": "code",
   "execution_count": null,
   "outputs": [],
   "source": [
    "a2 < 5"
   ],
   "metadata": {
    "collapsed": false
   },
   "id": "c0fd0350580bdec"
  },
  {
   "cell_type": "code",
   "execution_count": null,
   "outputs": [],
   "source": [
    "a2[a2<5]"
   ],
   "metadata": {
    "collapsed": false
   },
   "id": "c1d2f2e9f3526d02"
  },
  {
   "cell_type": "markdown",
   "source": [
    "the usual logic operators can be used"
   ],
   "metadata": {
    "collapsed": false
   },
   "id": "4f4254e8e23aebd6"
  },
  {
   "cell_type": "code",
   "execution_count": null,
   "outputs": [],
   "source": [
    "a2[(a2<5) | (a2>7)]"
   ],
   "metadata": {
    "collapsed": false
   },
   "id": "682ad530fd28bd32"
  },
  {
   "cell_type": "markdown",
   "source": [
    "### Mathematical operations"
   ],
   "metadata": {
    "collapsed": false
   },
   "id": "999339be56bdb4c5"
  },
  {
   "cell_type": "code",
   "execution_count": null,
   "outputs": [],
   "source": [
    "a1 = np.arange(1,5).reshape((2,2))\n",
    "a2 = np.arange(6,10).reshape((2,2))\n",
    "a3 = np.ones(2)\n",
    "print(f\"a1 = \\n{a1}\")\n",
    "print(f\"a2 = \\n{a2}\")"
   ],
   "metadata": {
    "collapsed": false
   },
   "id": "6f7f07cd2a392810"
  },
  {
   "cell_type": "code",
   "execution_count": null,
   "outputs": [],
   "source": [
    "a1 + a2"
   ],
   "metadata": {
    "collapsed": false
   },
   "id": "9eebf4b659bcfb48"
  },
  {
   "cell_type": "code",
   "execution_count": null,
   "outputs": [],
   "source": [
    "# element-wise operations - this is not matrix multiplication!\n",
    "a1 * a2"
   ],
   "metadata": {
    "collapsed": false
   },
   "id": "59a37b0919c86378"
  },
  {
   "cell_type": "code",
   "execution_count": null,
   "outputs": [],
   "source": [
    "# element-wise operations - this is not matrix multiplication!\n",
    "a1 * a3"
   ],
   "metadata": {
    "collapsed": false
   },
   "id": "976e7516b1cab2ec"
  },
  {
   "cell_type": "code",
   "execution_count": null,
   "outputs": [],
   "source": [
    "a1 * 2"
   ],
   "metadata": {
    "collapsed": false
   },
   "id": "19971875b8b0efc9"
  },
  {
   "cell_type": "code",
   "execution_count": null,
   "outputs": [],
   "source": [
    "a2.max()"
   ],
   "metadata": {
    "collapsed": false
   },
   "id": "3e281831ddf2ee90"
  },
  {
   "cell_type": "code",
   "execution_count": null,
   "outputs": [],
   "source": [
    "a2.sum()"
   ],
   "metadata": {
    "collapsed": false
   },
   "id": "16b4d07ec38b93c6"
  },
  {
   "cell_type": "code",
   "execution_count": null,
   "outputs": [],
   "source": [
    "a2.sum(axis=0)"
   ],
   "metadata": {
    "collapsed": false
   },
   "id": "8842bee4e059e5c6"
  },
  {
   "cell_type": "code",
   "execution_count": null,
   "outputs": [],
   "source": [
    "a2.sum(axis=1)"
   ],
   "metadata": {
    "collapsed": false
   },
   "id": "d2b713ce77f0ffdd"
  },
  {
   "cell_type": "code",
   "execution_count": null,
   "outputs": [],
   "source": [
    "a2.T"
   ],
   "metadata": {
    "collapsed": false
   },
   "id": "ae771f5d4d74ddc2"
  },
  {
   "cell_type": "code",
   "execution_count": null,
   "outputs": [],
   "source": [
    "# vector product (dot product)\n",
    "# a1 = [[1 2]\n",
    "#       [3 4]]\n",
    "# a2 = [[6 7]\n",
    "#       [8 9]]\n",
    "\n",
    "np.dot(a1,a2)"
   ],
   "metadata": {
    "collapsed": false
   },
   "id": "674853b8140beeec"
  },
  {
   "cell_type": "markdown",
   "source": [
    "## pandas\n",
    "\n",
    "What NumPy is for numeric data, pandas is for generic data science.\n",
    "You can think of the DataFrame as some kind of in-memory database with built-in data science functionality. "
   ],
   "metadata": {
    "collapsed": false
   },
   "id": "8fa2fc5524fdfb31"
  },
  {
   "cell_type": "code",
   "execution_count": null,
   "outputs": [],
   "source": [
    "import pandas as pd"
   ],
   "metadata": {
    "collapsed": false
   },
   "id": "3ec627bf0117b0e4"
  },
  {
   "cell_type": "markdown",
   "source": [
    "### read and generate DataFrames"
   ],
   "metadata": {
    "collapsed": false
   },
   "id": "13c280c9c118abd8"
  },
  {
   "cell_type": "code",
   "execution_count": null,
   "outputs": [],
   "source": [
    "# read from CSV file\n",
    "data_1 = pd.read_csv(r\"data\\country_data.csv\")\n",
    "data_1"
   ],
   "metadata": {
    "collapsed": false
   },
   "id": "a83617951819fbb5"
  },
  {
   "cell_type": "code",
   "execution_count": null,
   "outputs": [],
   "source": [
    "# generate from list\n",
    "list_2 = [[\"CHN\", \"China\", 1398.72],\n",
    "          [\"IND\", \"India\", 1351.16],\n",
    "          [\"USA\", \"United States\", 329.74]]\n",
    "\n",
    "data_2 = pd.DataFrame(list_2)\n",
    "data_2"
   ],
   "metadata": {
    "collapsed": false
   },
   "id": "6b95e9b9daa2803e"
  },
  {
   "cell_type": "code",
   "execution_count": null,
   "outputs": [],
   "source": [
    "# beautify a bit\n",
    "data_2 = pd.DataFrame(list_2, columns=[\"ID\", \"Name\", \"#Inhabitants\"])\n",
    "\n",
    "data_2"
   ],
   "metadata": {
    "collapsed": false
   },
   "id": "8e8508c22a5a043a"
  },
  {
   "cell_type": "code",
   "execution_count": null,
   "outputs": [],
   "source": [
    "# from dictionary\n",
    "\n",
    "dict_3 = {\"ID\" : [\"CHN\",\"IND\",\"USA\",\"IDN\",\"BRA\",\"PAK\"],\n",
    "          \"Name\" : [\"China\",\"India\",\"US\",\"Indonesia\",\"Brazil\",\"Pakistan\"],\n",
    "          \"Inhabitants\" : [1398.72, 1351.16, 329.74, 268.07, 210.32, 205.71]}\n",
    "data_3 = pd.DataFrame(dict_3)\n",
    "data_3"
   ],
   "metadata": {
    "collapsed": false
   },
   "id": "816f73596bc2de7d"
  },
  {
   "cell_type": "code",
   "execution_count": null,
   "outputs": [],
   "source": [
    "### Indexing, Slicing"
   ],
   "metadata": {
    "collapsed": false
   },
   "id": "50b847b21cbcae4a"
  },
  {
   "cell_type": "code",
   "execution_count": null,
   "outputs": [],
   "source": [
    "# Indexing row or named column\n",
    "data_3[\"Name\"]"
   ],
   "metadata": {
    "collapsed": false
   },
   "id": "6f29496b8a2be3d9"
  },
  {
   "cell_type": "code",
   "execution_count": null,
   "outputs": [],
   "source": [
    "# Index named column od named row\n",
    "data_3.Inhabitants"
   ],
   "metadata": {
    "collapsed": false
   },
   "id": "623db4544609708"
  },
  {
   "cell_type": "code",
   "execution_count": null,
   "outputs": [],
   "source": [
    "# index row\n",
    "data_3.loc[3]"
   ],
   "metadata": {
    "collapsed": false
   },
   "id": "a0197495fc9a4bf9"
  },
  {
   "cell_type": "code",
   "execution_count": null,
   "outputs": [],
   "source": [
    "# indexing with numbers only: iloc\n",
    "\n",
    "data_3.iloc[3]"
   ],
   "metadata": {
    "collapsed": false
   },
   "id": "b80e4fbba434c21"
  },
  {
   "cell_type": "markdown",
   "source": [
    "no difference here because rows are not named - wait a second"
   ],
   "metadata": {
    "collapsed": false
   },
   "id": "3d9a0a9a8f572b5f"
  },
  {
   "cell_type": "code",
   "execution_count": null,
   "outputs": [],
   "source": [
    "# slice rows\n",
    "data_3.loc[3:5]  # have a close look!"
   ],
   "metadata": {
    "collapsed": false
   },
   "id": "4e8ac2db5bbe7e37"
  },
  {
   "cell_type": "markdown",
   "source": [
    "row 5 is included"
   ],
   "metadata": {
    "collapsed": false
   },
   "id": "f3ca3ac794533e3a"
  },
  {
   "cell_type": "code",
   "execution_count": null,
   "outputs": [],
   "source": [
    "#slice named columns\n",
    "data_3.loc[:, [\"ID\", \"Name\"]]"
   ],
   "metadata": {
    "collapsed": false
   },
   "id": "a5d9870394203ba9"
  },
  {
   "cell_type": "code",
   "execution_count": null,
   "outputs": [],
   "source": [
    "data_3.iloc[:,2]"
   ],
   "metadata": {
    "collapsed": false
   },
   "id": "d7654ca86f53cd4a"
  },
  {
   "cell_type": "code",
   "execution_count": null,
   "outputs": [],
   "source": [
    "data_3.iloc[:,0:1]"
   ],
   "metadata": {
    "collapsed": false
   },
   "id": "7f6510e04d2f7617"
  },
  {
   "cell_type": "markdown",
   "source": [
    "attention: usual behaviour (1 excluded)\n",
    "\n",
    "because now it is a number, not a name "
   ],
   "metadata": {
    "collapsed": false
   },
   "id": "5ea5a48af48f36f4"
  },
  {
   "cell_type": "code",
   "execution_count": null,
   "outputs": [],
   "source": [
    "data_3.iloc[:,0:2]"
   ],
   "metadata": {
    "collapsed": false
   },
   "id": "d5bce165ec450b52"
  },
  {
   "cell_type": "code",
   "execution_count": null,
   "outputs": [],
   "source": [
    "#index/slice and filter\n",
    "data_3.loc[:, [\"Name\"]][data_3[\"Inhabitants\"] > 1000]"
   ],
   "metadata": {
    "collapsed": false
   },
   "id": "515443f5448090f0"
  },
  {
   "cell_type": "code",
   "execution_count": null,
   "outputs": [],
   "source": [
    "# delete\n",
    "data_4 = data_3.drop(\"Name\", axis=\"columns\")\n",
    "data_4"
   ],
   "metadata": {
    "collapsed": false
   },
   "id": "5546989d51fb7b19"
  },
  {
   "cell_type": "code",
   "execution_count": null,
   "outputs": [],
   "source": [
    "### mathematical operations"
   ],
   "metadata": {
    "collapsed": false
   },
   "id": "a9f32c3423031106"
  },
  {
   "cell_type": "code",
   "execution_count": null,
   "outputs": [],
   "source": [
    "import numpy as np\n",
    "# another variant to generate DataFrames\n",
    "df1 = pd.DataFrame(np.arange(12.).reshape((3, 4)), columns=list('abcd'))\n",
    "df1"
   ],
   "metadata": {
    "collapsed": false
   },
   "id": "235532ce370a4149"
  },
  {
   "cell_type": "code",
   "execution_count": null,
   "outputs": [],
   "source": [
    "df2 = pd.DataFrame(np.arange(20.).reshape((4, 5)), columns=list('abcde'))\n",
    "df2"
   ],
   "metadata": {
    "collapsed": false
   },
   "id": "b7547a91541be1bf"
  },
  {
   "cell_type": "code",
   "execution_count": null,
   "outputs": [],
   "source": [
    "df1 + df1"
   ],
   "metadata": {
    "collapsed": false
   },
   "id": "9055faefaaf521d1"
  },
  {
   "cell_type": "code",
   "execution_count": null,
   "outputs": [],
   "source": [
    "df1 * 2"
   ],
   "metadata": {
    "collapsed": false
   },
   "id": "43352fe7309836e2"
  },
  {
   "cell_type": "code",
   "execution_count": null,
   "outputs": [],
   "source": [
    "df1 ** 2"
   ],
   "metadata": {
    "collapsed": false
   },
   "id": "94a54f48acf6a921"
  },
  {
   "cell_type": "code",
   "execution_count": null,
   "outputs": [],
   "source": [
    "df1 + df2"
   ],
   "metadata": {
    "collapsed": false
   },
   "id": "446c01413a94d80"
  },
  {
   "cell_type": "code",
   "execution_count": null,
   "outputs": [],
   "source": [
    "# Funktionsanwendung (Vektor-Funktionen)\n",
    "\n",
    "f = lambda x: x.max() - x.min()\n",
    "\n",
    "df1.apply(f)"
   ],
   "metadata": {
    "collapsed": false
   },
   "id": "b5b09d30daa4badf"
  },
  {
   "cell_type": "markdown",
   "source": [
    "### built-in functions"
   ],
   "metadata": {
    "collapsed": false
   },
   "id": "daf321558327c127"
  },
  {
   "cell_type": "code",
   "execution_count": null,
   "outputs": [],
   "source": [
    "df1.sum()"
   ],
   "metadata": {
    "collapsed": false
   },
   "id": "4399024bf15ef78e"
  },
  {
   "cell_type": "code",
   "execution_count": null,
   "outputs": [],
   "source": [
    "df1.sum(axis=\"columns\")"
   ],
   "metadata": {
    "collapsed": false
   },
   "id": "51f4f37f04e6ba96"
  },
  {
   "cell_type": "code",
   "execution_count": null,
   "outputs": [],
   "source": [
    "# overview\n",
    "df1.describe()"
   ],
   "metadata": {
    "collapsed": false
   },
   "id": "b4a0d4e179d1a94a"
  },
  {
   "cell_type": "markdown",
   "source": [
    "### Advanced (well, a bit) methods: groupby"
   ],
   "metadata": {
    "collapsed": false
   },
   "id": "477213a12c3f962c"
  },
  {
   "cell_type": "code",
   "execution_count": null,
   "outputs": [],
   "source": [
    "data_1"
   ],
   "metadata": {
    "collapsed": false
   },
   "id": "8ede44089f17fa92"
  },
  {
   "cell_type": "code",
   "execution_count": null,
   "outputs": [],
   "source": [
    "# the first argument determines the grouping, the optional second argument what should be grouped according to the first.\n",
    "data_1.groupby(\"CONT\")[\"CONT\"].count()"
   ],
   "metadata": {
    "collapsed": false
   },
   "id": "694b4dc067072dd0"
  },
  {
   "cell_type": "code",
   "execution_count": null,
   "outputs": [],
   "source": [
    "data_1.groupby(\"CONT\").groups[\"Asia\"]"
   ],
   "metadata": {
    "collapsed": false
   },
   "id": "f22d05a2e3c48d5"
  },
  {
   "cell_type": "code",
   "execution_count": null,
   "outputs": [],
   "source": [
    "data_1.groupby(\"CONT\").get_group(\"Asia\")"
   ],
   "metadata": {
    "collapsed": false
   },
   "id": "23886f0f5b4bc810"
  },
  {
   "cell_type": "code",
   "execution_count": null,
   "outputs": [],
   "source": [
    "data_1.groupby(\"CONT\")[\"GDP\"].sum()"
   ],
   "metadata": {
    "collapsed": false
   },
   "id": "e5d483899b5eec92"
  },
  {
   "cell_type": "markdown",
   "source": [
    "## Visualization\n",
    "\n",
    "using matplotlib in combination with pandas\n",
    "(would also work with numpy)"
   ],
   "metadata": {
    "collapsed": false
   },
   "id": "ecc9e715e2ed410e"
  },
  {
   "cell_type": "code",
   "execution_count": null,
   "outputs": [],
   "source": [
    "from matplotlib import pyplot as plt\n",
    "\n",
    "plt.style.use('dark_background')\n",
    "\n",
    "data_3.plot(kind=\"bar\", x=\"ID\", y=\"Inhabitants\")\n"
   ],
   "metadata": {
    "collapsed": false
   },
   "id": "f910d7a6ae5ca684"
  },
  {
   "cell_type": "code",
   "execution_count": null,
   "outputs": [],
   "source": [
    "# other data\n",
    "df3 = pd.DataFrame({\"years\": [1950, 1960, 1970, 1980, 1990, 2000, 2010],\n",
    "                    \"gdp\": [300.2, 543.3, 1075.9, 2862.5, 5979.6, 10289.7, 14958.3]})\n",
    "\n",
    "#Standard diagramm type is the line plot:\n",
    "df3.plot()"
   ],
   "metadata": {
    "collapsed": false
   },
   "id": "4e18978d5efe1c4d"
  },
  {
   "cell_type": "code",
   "execution_count": null,
   "outputs": [],
   "source": [
    "# that's not what we wanted to see - any thoughts?\n",
    "\n",
    "# how does the data look like?\n",
    "df3"
   ],
   "metadata": {
    "collapsed": false
   },
   "id": "9009d11be025e4ba"
  },
  {
   "cell_type": "code",
   "execution_count": null,
   "outputs": [],
   "source": [
    "# \"years\" should be the index\n",
    "df3.set_index(\"years\", inplace=True)\n",
    "df3"
   ],
   "metadata": {
    "collapsed": false
   },
   "id": "8586a9eb12dfc7e4"
  },
  {
   "cell_type": "code",
   "execution_count": null,
   "outputs": [],
   "source": [
    "df3.plot()"
   ],
   "metadata": {
    "collapsed": false
   },
   "id": "c144b95eb46675f0"
  },
  {
   "cell_type": "code",
   "execution_count": null,
   "outputs": [],
   "source": [
    "# That's better!\n",
    "# let's enrich the data a bit...\n",
    "made_up_values = [1500, 2500, 1000, 1500, 1250, 2000, 4000]\n",
    "df3[\"some_data\"] = made_up_values\n",
    "df3"
   ],
   "metadata": {
    "collapsed": false
   },
   "id": "764a4ab140ca542"
  },
  {
   "cell_type": "code",
   "execution_count": null,
   "outputs": [],
   "source": [
    "df3.plot()"
   ],
   "metadata": {
    "collapsed": false
   },
   "id": "a65a0d1f5c0295d9"
  },
  {
   "cell_type": "code",
   "execution_count": null,
   "outputs": [],
   "source": [
    "# some different diagramms\n",
    "df3.plot.bar()"
   ],
   "metadata": {
    "collapsed": false
   },
   "id": "648036a11f2f8aea"
  },
  {
   "cell_type": "code",
   "execution_count": null,
   "outputs": [],
   "source": [
    "df3.plot.bar(stacked=True)"
   ],
   "metadata": {
    "collapsed": false
   },
   "id": "b734eaa42bf08e07"
  },
  {
   "cell_type": "code",
   "execution_count": null,
   "outputs": [],
   "source": [
    "df3.plot.barh()"
   ],
   "metadata": {
    "collapsed": false
   },
   "id": "46eab3c32f45bae4"
  },
  {
   "cell_type": "code",
   "execution_count": null,
   "outputs": [],
   "source": [
    "df3.plot.area()"
   ],
   "metadata": {
    "collapsed": false
   },
   "id": "6b63d3ca15ebd152"
  },
  {
   "cell_type": "code",
   "execution_count": null,
   "outputs": [],
   "source": [
    "df3.plot.pie(subplots=True)"
   ],
   "metadata": {
    "collapsed": false
   },
   "id": "bc979c2b0cfa8181"
  },
  {
   "cell_type": "code",
   "execution_count": null,
   "outputs": [],
   "source": [
    "df3[\"gdp\"].plot.pie()"
   ],
   "metadata": {
    "collapsed": false
   },
   "id": "37b5dab972bd2f76"
  },
  {
   "cell_type": "code",
   "execution_count": null,
   "outputs": [],
   "source": [
    "df3.plot.scatter(x=\"gdp\", y=\"some_data\")"
   ],
   "metadata": {
    "collapsed": false
   },
   "id": "8d0dc8e1fbc5d211"
  },
  {
   "cell_type": "code",
   "execution_count": null,
   "outputs": [],
   "source": [
    "# not so useful, we need other data\n",
    "\n",
    "# generate random data on height and weight\n",
    "import random\n",
    "\n",
    "mu = 170  #mean\n",
    "sigma = 6  #stddev\n",
    "sample = 100\n",
    "random.seed(0)\n",
    "height = [random.gauss(mu, sigma) for _ in range(sample)]  # normal/gaussian distribution 170cm\n",
    "weight = [(h - 100) * (0.75 + random.random() / 2) for h in height]\n",
    "# weight is random value between 3/4 and 5/4 of height - 100\n",
    "\n",
    "df4 = pd.DataFrame({\"height\": height, \"weight\": weight})\n",
    "df4.plot.scatter(x=\"height\", y=\"weight\")"
   ],
   "metadata": {
    "collapsed": false
   },
   "id": "4fe7aa2493aa982f"
  },
  {
   "cell_type": "markdown",
   "source": [
    "Now, that's better and ends our short introduction of Python and Python data libraries.\n",
    "\n",
    "Before we go on, some more exercises:\n",
    "\n",
    "NumPy\n",
    "1. Create a 4x2 2-D array that contains the numbers from 1-8\n",
    "2. Filter out all even numbers from the array above\n",
    "3. Create a new array from the first one above by reshaping it to 2x2x2. Make sure the original array is still available.\n",
    "4. Create a new array from the first one by swapping the columns.\n",
    "5. Do the same by swapping the middle rows.\n",
    "\n",
    "\n",
    "pandas:\n",
    "Use pandas to analyse the famous Iris dataset.\n",
    "* Load the dataset to pandas. Make sure all is fine and consider data cleaning otherwise.\n",
    "* Have a look at the dataset. What would be a feasible analysis goal? Act accordingly in the following exercises.\n",
    "* Calculate statistical measures like mean, standard deviation etc.\n",
    "* Use \"visual analytics\" to come up with hypotheses about the analysis.\n",
    "* discuss with teacher and other students\n"
   ],
   "metadata": {
    "collapsed": false
   },
   "id": "6215c79f523c2330"
  }
 ],
 "metadata": {
  "kernelspec": {
   "display_name": "Python 3",
   "language": "python",
   "name": "python3"
  },
  "language_info": {
   "codemirror_mode": {
    "name": "ipython",
    "version": 2
   },
   "file_extension": ".py",
   "mimetype": "text/x-python",
   "name": "python",
   "nbconvert_exporter": "python",
   "pygments_lexer": "ipython2",
   "version": "2.7.6"
  }
 },
 "nbformat": 4,
 "nbformat_minor": 5
}
